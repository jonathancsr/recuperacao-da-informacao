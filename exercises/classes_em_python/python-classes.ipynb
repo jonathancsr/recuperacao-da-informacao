{
 "cells": [
  {
   "cell_type": "code",
   "execution_count": 1,
   "metadata": {},
   "outputs": [],
   "source": [
    "from datetime import datetime\n",
    "class Autor:\n",
    "    def __init__(self, first_name, last_name, medium_name=\"\",data_nascimento=datetime.today()):\n",
    "        self.first_name = first_name\n",
    "        self.medium_name = medium_name\n",
    "        self.last_name = last_name\n",
    "        self.data_nascimento=data_nascimento\n",
    "        self.nome_como_citado = f\"{str.upper(last_name)} {str.upper(first_name[0])}.\"\n",
    "\n",
    "    def __str__(self) -> str:\n",
    "        return f\"{self.first_name}, {self.medium_name}, {self.last_name},{self.data_nascimento}, {self.nome_como_citado}\"\n",
    "\n",
    "    def __repr__(self) -> str:\n",
    "         return f\"{self.first_name}, {self.medium_name}, {self.last_name},{self.data_nascimento}, {self.nome_como_citado}\""
   ]
  },
  {
   "cell_type": "code",
   "execution_count": 2,
   "metadata": {
    "pycharm": {
     "name": "#%%\n"
    }
   },
   "outputs": [],
   "source": [
    "class Livro:\n",
    "    def __init__(self, ano,  titulo='', autores = [] ):\n",
    "        self.titulo = titulo\n",
    "        self.ano = ano\n",
    "        if autores: self.autores = autores\n",
    "\n",
    "    @property\n",
    "    def titulo(self):\n",
    "        return self._titulo\n",
    "    \n",
    "    @titulo.setter\n",
    "    def titulo(self,value):\n",
    "        if value=='':\n",
    "            raise ValueError(\"Título do livro é obrigatório!\")\n",
    "        self._titulo = value\n",
    "        \n",
    "    def lista_autores(self):\n",
    "        autores_str = \"\"\n",
    "        for autor in self.autores:\n",
    "            autores_str += f\", {autor.nome_como_citado}\"\n",
    "        return autores_str\n",
    "\n",
    "    def __str__(self) -> str:\n",
    "        return f\"{self.titulo}, {self.ano}{self.lista_autores()}\"\n",
    "\n",
    "    def __repr__(self) -> str:\n",
    "        return f\"{self.titulo}, {self.ano}{self.lista_autores()}\"\n"
   ]
  },
  {
   "cell_type": "code",
   "execution_count": 3,
   "metadata": {
    "pycharm": {
     "name": "#%%\n"
    }
   },
   "outputs": [],
   "source": [
    "class Biblioteca:\n",
    "\n",
    "    def __init__(self, livros):\n",
    "        self.livros = livros\n",
    "\n",
    "\n",
    "    def livros_por_autor(self):\n",
    "        dicionario = {}\n",
    "        for livro in self.livros:\n",
    "            for autor in livro.autores:\n",
    "                if autor.nome_como_citado in dicionario:\n",
    "                    dicionario[autor.nome_como_citado].append(livro)\n",
    "                else:\n",
    "                    dicionario.update({autor.nome_como_citado:[livro]})\n",
    "        return dicionario\n",
    "\n",
    "    def __str__(self) -> str:\n",
    "        return self.livros_por_autor().__str__()\n",
    "\n",
    "    def __repr__(self) -> str:\n",
    "        return self.livros_por_autor().__str__()"
   ]
  },
  {
   "cell_type": "markdown",
   "metadata": {
    "pycharm": {
     "name": "#%% md\n"
    }
   },
   "source": [
    "## Testes\n"
   ]
  },
  {
   "cell_type": "code",
   "execution_count": 4,
   "metadata": {
    "pycharm": {
     "name": "#%%\n"
    }
   },
   "outputs": [
    {
     "name": "stdout",
     "output_type": "stream",
     "text": [
      "Jonathan, Candido, Rodrigues,2021-06-03 17:36:41.674461, RODRIGUES J.\n",
      "Lucas, , Alves,2021-06-03 17:36:41.674461, ALVES L.\n",
      "Harry Potter, 1997, RODRIGUES J., ALVES L.\n",
      "Game of Thrones, 1995, RODRIGUES J.\n",
      "Torre Negra, 2020, ALVES L.\n",
      "{'RODRIGUES J.': [Harry Potter, 1997, RODRIGUES J., ALVES L., Game of Thrones, 1995, RODRIGUES J.], 'ALVES L.': [Harry Potter, 1997, RODRIGUES J., ALVES L., Torre Negra, 2020, ALVES L.]}\n"
     ]
    },
    {
     "data": {
      "text/plain": [
       "\"{'RODRIGUES J.': [Harry Potter, 1997, RODRIGUES J., ALVES L., Game of Thrones, 1995, RODRIGUES J.], 'ALVES L.': [Harry Potter, 1997, RODRIGUES J., ALVES L., Torre Negra, 2020, ALVES L.]}\""
      ]
     },
     "execution_count": 4,
     "metadata": {},
     "output_type": "execute_result"
    }
   ],
   "source": [
    "jonathan = Autor(first_name=\"Jonathan\", medium_name=\"Candido\", last_name=\"Rodrigues\")\n",
    "lucas = Autor(first_name=\"Lucas\", last_name=\"Alves\")\n",
    "\n",
    "harry_potter = Livro(titulo=\"Harry Potter\", ano=1997, autores=[jonathan,lucas])\n",
    "got = Livro(titulo=\"Game of Thrones\", ano=1995, autores=[jonathan])\n",
    "torre_negra = Livro(titulo=\"Torre Negra\", ano=2020, autores=[lucas])\n",
    "\n",
    "bibli = Biblioteca(livros=[harry_potter,got,torre_negra])\n",
    "\n",
    "print(jonathan)\n",
    "print(lucas)\n",
    "print(harry_potter)\n",
    "print(got)\n",
    "print(torre_negra)\n",
    "print(bibli)\n",
    "\n",
    "repr(jonathan)\n",
    "repr(lucas)\n",
    "repr(harry_potter)\n",
    "repr(got)\n",
    "repr(torre_negra)\n",
    "repr(bibli)"
   ]
  },
  {
   "cell_type": "markdown",
   "metadata": {},
   "source": [
    "# Teste Livro sem titulo"
   ]
  },
  {
   "cell_type": "code",
   "execution_count": 5,
   "metadata": {
    "pycharm": {
     "name": "#%%\n"
    }
   },
   "outputs": [
    {
     "ename": "ValueError",
     "evalue": "Título do livro é obrigatório!",
     "output_type": "error",
     "traceback": [
      "\u001B[0;31m---------------------------------------------------------------------------\u001B[0m",
      "\u001B[0;31mValueError\u001B[0m                                Traceback (most recent call last)",
      "\u001B[0;32m<ipython-input-5-e9e47378cf6b>\u001B[0m in \u001B[0;36m<module>\u001B[0;34m\u001B[0m\n\u001B[0;32m----> 1\u001B[0;31m \u001B[0mhobbit\u001B[0m \u001B[0;34m=\u001B[0m \u001B[0mLivro\u001B[0m\u001B[0;34m(\u001B[0m\u001B[0mano\u001B[0m\u001B[0;34m=\u001B[0m\u001B[0;36m1953\u001B[0m\u001B[0;34m,\u001B[0m\u001B[0mautores\u001B[0m\u001B[0;34m=\u001B[0m\u001B[0;34m[\u001B[0m\u001B[0mjonathan\u001B[0m\u001B[0;34m]\u001B[0m\u001B[0;34m)\u001B[0m\u001B[0;34m\u001B[0m\u001B[0;34m\u001B[0m\u001B[0m\n\u001B[0m",
      "\u001B[0;32m<ipython-input-2-66cfe5bafb4f>\u001B[0m in \u001B[0;36m__init__\u001B[0;34m(self, ano, titulo, autores)\u001B[0m\n\u001B[1;32m      1\u001B[0m \u001B[0;32mclass\u001B[0m \u001B[0mLivro\u001B[0m\u001B[0;34m:\u001B[0m\u001B[0;34m\u001B[0m\u001B[0;34m\u001B[0m\u001B[0m\n\u001B[1;32m      2\u001B[0m     \u001B[0;32mdef\u001B[0m \u001B[0m__init__\u001B[0m\u001B[0;34m(\u001B[0m\u001B[0mself\u001B[0m\u001B[0;34m,\u001B[0m \u001B[0mano\u001B[0m\u001B[0;34m,\u001B[0m  \u001B[0mtitulo\u001B[0m\u001B[0;34m=\u001B[0m\u001B[0;34m''\u001B[0m\u001B[0;34m,\u001B[0m \u001B[0mautores\u001B[0m \u001B[0;34m=\u001B[0m \u001B[0;34m[\u001B[0m\u001B[0;34m]\u001B[0m \u001B[0;34m)\u001B[0m\u001B[0;34m:\u001B[0m\u001B[0;34m\u001B[0m\u001B[0;34m\u001B[0m\u001B[0m\n\u001B[0;32m----> 3\u001B[0;31m         \u001B[0mself\u001B[0m\u001B[0;34m.\u001B[0m\u001B[0mtitulo\u001B[0m \u001B[0;34m=\u001B[0m \u001B[0mtitulo\u001B[0m\u001B[0;34m\u001B[0m\u001B[0;34m\u001B[0m\u001B[0m\n\u001B[0m\u001B[1;32m      4\u001B[0m         \u001B[0mself\u001B[0m\u001B[0;34m.\u001B[0m\u001B[0mano\u001B[0m \u001B[0;34m=\u001B[0m \u001B[0mano\u001B[0m\u001B[0;34m\u001B[0m\u001B[0;34m\u001B[0m\u001B[0m\n\u001B[1;32m      5\u001B[0m         \u001B[0;32mif\u001B[0m \u001B[0mautores\u001B[0m\u001B[0;34m:\u001B[0m \u001B[0mself\u001B[0m\u001B[0;34m.\u001B[0m\u001B[0mautores\u001B[0m \u001B[0;34m=\u001B[0m \u001B[0mautores\u001B[0m\u001B[0;34m\u001B[0m\u001B[0;34m\u001B[0m\u001B[0m\n",
      "\u001B[0;32m<ipython-input-2-66cfe5bafb4f>\u001B[0m in \u001B[0;36mtitulo\u001B[0;34m(self, value)\u001B[0m\n\u001B[1;32m     12\u001B[0m     \u001B[0;32mdef\u001B[0m \u001B[0mtitulo\u001B[0m\u001B[0;34m(\u001B[0m\u001B[0mself\u001B[0m\u001B[0;34m,\u001B[0m\u001B[0mvalue\u001B[0m\u001B[0;34m)\u001B[0m\u001B[0;34m:\u001B[0m\u001B[0;34m\u001B[0m\u001B[0;34m\u001B[0m\u001B[0m\n\u001B[1;32m     13\u001B[0m         \u001B[0;32mif\u001B[0m \u001B[0mvalue\u001B[0m\u001B[0;34m==\u001B[0m\u001B[0;34m''\u001B[0m\u001B[0;34m:\u001B[0m\u001B[0;34m\u001B[0m\u001B[0;34m\u001B[0m\u001B[0m\n\u001B[0;32m---> 14\u001B[0;31m             \u001B[0;32mraise\u001B[0m \u001B[0mValueError\u001B[0m\u001B[0;34m(\u001B[0m\u001B[0;34m\"Título do livro é obrigatório!\"\u001B[0m\u001B[0;34m)\u001B[0m\u001B[0;34m\u001B[0m\u001B[0;34m\u001B[0m\u001B[0m\n\u001B[0m\u001B[1;32m     15\u001B[0m         \u001B[0mself\u001B[0m\u001B[0;34m.\u001B[0m\u001B[0m_titulo\u001B[0m \u001B[0;34m=\u001B[0m \u001B[0mvalue\u001B[0m\u001B[0;34m\u001B[0m\u001B[0;34m\u001B[0m\u001B[0m\n\u001B[1;32m     16\u001B[0m \u001B[0;34m\u001B[0m\u001B[0m\n",
      "\u001B[0;31mValueError\u001B[0m: Título do livro é obrigatório!"
     ]
    }
   ],
   "source": [
    "hobbit = Livro(ano=1953,autores=[jonathan])\n"
   ]
  }
 ],
 "metadata": {
  "kernelspec": {
   "display_name": "Python 3",
   "language": "python",
   "name": "python3"
  },
  "language_info": {
   "codemirror_mode": {
    "name": "ipython",
    "version": 3
   },
   "file_extension": ".py",
   "mimetype": "text/x-python",
   "name": "python",
   "nbconvert_exporter": "python",
   "pygments_lexer": "ipython3",
   "version": "3.7.3"
  }
 },
 "nbformat": 4,
 "nbformat_minor": 1
}