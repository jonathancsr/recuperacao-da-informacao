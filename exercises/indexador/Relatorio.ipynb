{
 "cells": [
  {
   "cell_type": "markdown",
   "id": "c73acdc7",
   "metadata": {},
   "source": [
    "Este projeto foi desenvolvido por **Jonathan Candido** e **Raylander Frois** como parte da discplina de Tópicos Especiais em Computação e Algoritmos: Algoritmos de Organização e Recuperação de Informação do Centro Federal de Educação Tecnológica de Minas Gerais (CEFET-MG). Seu objetivo é desenvolver uma máquina de busca para a Wikipédia Brasil e de Portugal. "
   ]
  },
  {
   "cell_type": "markdown",
   "id": "bbb70b33",
   "metadata": {},
   "source": [
    "### Índice"
   ]
  },
  {
   "cell_type": "markdown",
   "id": "f7ecc865",
   "metadata": {},
   "source": [
    "Para acessar o índice gerado na execução da Máquina de Busca [clique aqui](https://pt.wikipedia.org/wiki/Stemiza%C3%A7%C3%A3o).\n",
    "\n",
    "Para visualizar o índice gerado, baixe o arquivo disponibilizado,  instale a biblioteca pickle e utilize o código abaixo:"
   ]
  },
  {
   "cell_type": "code",
   "execution_count": null,
   "id": "50aeabd4",
   "metadata": {},
   "outputs": [],
   "source": [
    "from index.indexer import *\n",
    "from index.structure import *\n",
    "import pickle\n",
    "\n",
    "with open(\"index.idx\", \"rb\") as idx_file:\n",
    "    obj_index = FileIndex()\n",
    "    t = obj_index.next_from_file(idx_file)\n",
    "\n",
    "    while t != None:\n",
    "        print(t)\n",
    "        t = obj_index.next_from_file(idx_file)"
   ]
  },
  {
   "cell_type": "markdown",
   "id": "35bb1c6c",
   "metadata": {},
   "source": [
    "### Discussão sobre a decisão de implementação adotada"
   ]
  },
  {
   "cell_type": "markdown",
   "id": "e96b776b",
   "metadata": {},
   "source": [
    "**Quais foram os principais desafios e soluções?**"
   ]
  },
  {
   "cell_type": "markdown",
   "id": "9d661b20",
   "metadata": {},
   "source": [
    "A solução implementada foi indexar cada termo em memória principal controlando o tamanho máximo de memória que poderia ser gasto durante o processo, para quando a indexação atingir o limite, os dados são exportados e salvos em memória secundária com uma estrutura de dicionário. Um desafio da solução implementada é a própria estrutura de dicionário, que por sua vez sua manipulação é mais complexa que, por exemplo, uma lista. Os testes demandaram bastante tempo, pois, o dataset continha bastante arquivos a serem indexados, gastando até mesmo horas para serem concluídos e calculados de tempo de indexação e memória RAM gastos."
   ]
  },
  {
   "cell_type": "markdown",
   "id": "94da1e97",
   "metadata": {},
   "source": [
    "**Qual é a vantagem/desvantagem das suas soluções sob as outras alternativas (por exemplo, uso do índice em memória principal vs. ocorrência de termos em memória secundária)?**"
   ]
  },
  {
   "cell_type": "markdown",
   "id": "57b1365f",
   "metadata": {},
   "source": [
    "A grande vantagem da solução de gravar os termos na memória secundária é a capacidade de armazenamento de termos, pois isso depende apenas da quantidade de memória em disco que você possui, tornando o número de indexações muito maior. Porém o gasto computacional é o tempo para esta solução é enorme, pois o maior gargalo enfrentado nas máquinas é o acesso à memória secundária, além disso, todo arquivo que é salvo precisa ser ordenado. A indexação com uso do índice em memória principal, tem como sua maior vantagem a velocidade de execução, que se mostra bastante superior, pois todo o indexamento fica na memória ram que é extremamente rápida, entretanto é necessário uma abundante memória para que o algoritmo funcione. \n",
    "O custo de memória principal é muito maior que o custo da memória secundária, mas a velocidade de execução dos algoritmos em memória secundária é muito maior, tendo em vista estas duas afirmações é necessário entender a quantidade de arquivos a serem indexados para escolher qual abordagem utilizar.\n"
   ]
  },
  {
   "cell_type": "markdown",
   "id": "96e5b73c",
   "metadata": {},
   "source": [
    "**O que nós melhoramos no nosso código para diminuir o consumo de memória ou deixá-lo mais eficiente?**"
   ]
  },
  {
   "cell_type": "markdown",
   "id": "3a8dd3ac",
   "metadata": {},
   "source": [
    "Uma solução implementada para maior eficiência do indexador, foi aumentar o limite de ocorrência temporárias, que é  limite de termos atingidos para serem escritos em arquivo em memória secundária, uma vez que um problema de desempenho identificado foi o tempo de  escrita na memória secundária. Aumentando esse limite, o indexador irá acessar a memória secundária com menor frequência aumentando o desempenho. Entretanto, irá consumir mais memória RAM. Foi aumentado o limite de ocorrências de 1 milhão para 100 milhões."
   ]
  },
  {
   "cell_type": "markdown",
   "id": "94bc11d6",
   "metadata": {},
   "source": [
    "**Quais são as bibliotecas externas utilizadas? Explique o funcionamento da técnica de stemming adotada.**"
   ]
  },
  {
   "cell_type": "markdown",
   "id": "f567c49c",
   "metadata": {},
   "source": [
    "As bibliotecas externas utilizadas foram a `BeautifulSoup` e a biblioteca de processamento de linguagem natural `nltk`. Em morfologia linguística e recuperação de informação a stemização (do inglês, stemming) é o processo de reduzir palavras flexionadas (ou às vezes derivadas) ao seu tronco (stem), base ou raiz, geralmente uma forma da palavra escrita [[Wik.]](https://pt.wikipedia.org/wiki/Stemiza%C3%A7%C3%A3o), para otimizar a consulta em máquinas de busca. Por exemplo, os tokens  “gato”, “gata”, “gatos” e “gatas” reduziram-se para um mesmo steam  “gat”.\n",
    "\n",
    "Processo de *stemming*:\n",
    "- utilização da biblioteca `BeautifulSoup` para extração de todo o texto da página indexada;\n",
    "- substituição dos caracteres acentuados `aáéíóúâêôçãẽõü` por sua correspondência sem acento `aeiouaeocaeou`;\n",
    "- substituição dos caracteres especiais `!?.:;,` por espaço;\n",
    "- identificação das *stopwords* com a utilização da biblioteca de processamento de linguagem natural `nltk` para a língua portuguesa.\n"
   ]
  },
  {
   "cell_type": "markdown",
   "id": "413f0577",
   "metadata": {},
   "source": [
    "**Qual foi a estrutura do índice utilizado?**"
   ]
  },
  {
   "cell_type": "markdown",
   "id": "342be7a6",
   "metadata": {},
   "source": [
    "A estrutura do índice utilizado  foi um dicionário, onde a key é o termo e o valor é o número de ocorrências do termo.\n"
   ]
  },
  {
   "cell_type": "markdown",
   "id": "c52f924b",
   "metadata": {},
   "source": [
    "**Quanto MB de ram a solução de índice gastou?**"
   ]
  },
  {
   "cell_type": "markdown",
   "id": "f98b3406",
   "metadata": {},
   "source": [
    "A máquina utilizada para realizar os testes foi um MacBook Pro, que possui a seguinte configuração:\n",
    "- Chip M1 da Apple com CPU de 8 núcleos, GPU de 8 núcleos e Neural Engine de 16 núcleos\n",
    "- Memória Ram de 16 GB\n",
    "- Armazenamento SSD de 256 GB¹\n",
    "\n",
    "A memória utiliza nos testes foi de: \n"
   ]
  },
  {
   "cell_type": "markdown",
   "id": "b7c98927",
   "metadata": {},
   "source": [
    "**Em quanto tempo foi realizado a indexação? Qual foi a média por documento?**"
   ]
  },
  {
   "cell_type": "markdown",
   "id": "75668030",
   "metadata": {},
   "source": [
    "O tempo total gasto para indexar todo dataset de 62128 arquivos foi de **2074,60 segundos**. A média por documento foi de **0.03339 segundos**."
   ]
  },
  {
   "cell_type": "code",
   "execution_count": null,
   "id": "e72825b8",
   "metadata": {},
   "outputs": [],
   "source": []
  }
 ],
 "metadata": {
  "kernelspec": {
   "display_name": "Python 3",
   "language": "python",
   "name": "python3"
  },
  "language_info": {
   "codemirror_mode": {
    "name": "ipython",
    "version": 3
   },
   "file_extension": ".py",
   "mimetype": "text/x-python",
   "name": "python",
   "nbconvert_exporter": "python",
   "pygments_lexer": "ipython3",
   "version": "3.9.5"
  }
 },
 "nbformat": 4,
 "nbformat_minor": 5
}
