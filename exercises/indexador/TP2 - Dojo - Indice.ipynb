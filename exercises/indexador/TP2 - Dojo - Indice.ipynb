{
 "cells": [
  {
   "cell_type": "markdown",
   "metadata": {},
   "source": [
    "Nesta prática você irá implementar o indexador para, logo após, indexar o conteúdo da Wikipédia. Nesta prática, o índice é composto pela classe abstrata `Index` que armazena a estrutura do índice e possui as operações básicas do mesmo. \n",
    "\n",
    "Iremos fazer duas implementações desse índice: o `HashIndex` que será um índice simples em memória principal e o `FileIndex` em que as ocorrências ficarão em memória secundária para possibilitar a indexação de uma quantidade maior de páginas. Assim, teremos os seguintes arquivos:\n",
    "\n",
    "- `structure.py`: Possui toda a estrutura do índice;\n",
    "- `index_structure_test.py`: Testa a estrutura do índice;\n",
    "- `file_index_test.py`: Possui os testes unitários específicos para a indexação das ocorrencias em arquivos da classe `FileIndex`;\n",
    "- `performance_test.py`: Executa um teste de performance (tempo de execução e memória utilizada) do índice;\n",
    "- `indexer.py`: Possui as classes para o preprocessamento e preparação para a indexação;\n",
    "- `indexer_test.py`: Realiza o [teste de integração](https://en.wikipedia.org/wiki/Integration_testing) da prática como um todo (inclusive as funções da indexer.py).\n",
    "\n",
    "Na entrega, não esqueça de apresentar a saída de execução de cada atividade desta tarefa."
   ]
  },
  {
   "cell_type": "markdown",
   "metadata": {},
   "source": [
    "## Implementação da classe Abstrata `Index` e classe `HashIndex`"
   ]
  },
  {
   "cell_type": "markdown",
   "metadata": {},
   "source": [
    "A classe abstrata Index, no arquivo `structure.py` possui os seguintes atributos:"
   ]
  },
  {
   "cell_type": "markdown",
   "metadata": {},
   "source": [
    "- `dic_index`:  dicionário em que a chave é o termo indexação (string, gerenciado por esta classe) e, os valores,  podem der de diferentes tipos - dependendo da subclasse;\n",
    "- `set_documents`: conjunto de ids de documentos existentes."
   ]
  },
  {
   "cell_type": "markdown",
   "metadata": {},
   "source": [
    "Os métodos serão discutidos ao longo das atividades. Inicialmente, iremos fazer a importação do módulo:"
   ]
  },
  {
   "cell_type": "code",
   "execution_count": null,
   "metadata": {},
   "outputs": [],
   "source": [
    "from index.structure import *"
   ]
  },
  {
   "cell_type": "markdown",
   "metadata": {},
   "source": [
    "**Atividade 1 - método index da classe Index**: Este método esta quase todo pronto e é reponsável por indexar um termo com sua frequncia e documento no índice, de acordo com uma de suas subclasses. Você deve deve apenas inicializar a variável `int_term_id` apropriadamente - substituindo os `None` correspondente. Caso o termo não exista no índice, deverá obter o próximo term_id. Esse id pode ser sequencial. Caso esse id seja encontrado, a classe Index deverá chamar o método `get_term_id` (implementado pelas subclasses) para obtê-lo pois, dependendo da implementação, haverá uma forma diferente de obtenção. Além disso, você deverá atualizar o atributo `set_documents` apropriadamente. Para testar tanto esta atividade e a seguinte,  você deverá fazer uma das implementações dessa classe - a classe **HashIndex** - na atividade 3. "
   ]
  },
  {
   "cell_type": "markdown",
   "metadata": {},
   "source": [
    "**Atividade 2 - atributos calculados da classe Index**: Você deve implementar os atributos calculados `document_count` e `vocabulary` da classe Index. O atributo `document_count` retorna a quantidade de documentos existentes e, `vocabulary` retorna uma lista com o vocabulário completo indexado. "
   ]
  },
  {
   "cell_type": "markdown",
   "metadata": {},
   "source": [
    "**Atividade 3 - Implementação da classe HashIndex: ** O HashIndex deverá fazer um índice em memória.\n",
    "\n",
    "Como exemplo, caso tenhamos três documentos $d_1 = $\"A casa verde é uma casa bonita\", $d_2 = $\"A casa bonita\" e $d_3 =$\"O prédio verde\", caso não haja remoção de _stopwords_ nem acentos, o atributo `dic_index` deverá possuir a seguinte estrutura:"
   ]
  },
  {
   "cell_type": "code",
   "execution_count": null,
   "metadata": {},
   "outputs": [],
   "source": [
    "{\"a\": [TermOccurrence(1,1,1), TermOccurrence(2,1,1)],\n",
    " \"casa\": [TermOccurrence(1,2,2), TermOccurrence(2,2,1)],\n",
    " \"verde\": [TermOccurrence(1,3,1), TermOccurrence(3,3,1)],\n",
    " \"é\": [TermOccurrence(1,4,1)],\n",
    " \"uma\": [TermOccurrence(1,5,1)],\n",
    " \"bonita\": [TermOccurrence(1,6,1),TermOccurrence(2,6,1)],\n",
    " \"o\": [TermOccurrence(3,7,1)],\n",
    " \"prédio\": [TermOccurrence(3,8,1)]\n",
    "}"
   ]
  },
  {
   "cell_type": "markdown",
   "metadata": {},
   "source": [
    "Por simplicidade deste indice, perceba que deixamos o `term_id` de forma repetida. Iremos deixar assim, porém poderiamos retirar essa redundancia para reduzir o consumo de memória. Porém, nesta prática, iremos implementar o índice em arquivo que irá ser melhor ainda na questão de consumo de memória ;)"
   ]
  },
  {
   "cell_type": "markdown",
   "metadata": {},
   "source": [
    "O índice é chamado da seguinte forma - esse código só ira funcionar depois que vocẽ terminar esta atividade :):"
   ]
  },
  {
   "cell_type": "code",
   "execution_count": null,
   "metadata": {},
   "outputs": [],
   "source": [
    "index = HashIndex()\n",
    "#indexação do documento 1\n",
    "index.index(\"a\",1,1)\n",
    "index.index(\"casa\",1,2)\n",
    "index.index(\"verde\",1,1)\n",
    "index.index(\"é\",1,1)\n",
    "index.index(\"uma\",1,1)\n",
    "#indexação do documento 2\n",
    "index.index(\"a\",2,1)\n",
    "index.index(\"casa\",2,1)\n",
    "index.index(\"bonita\",2,1)\n",
    "\n",
    "#indexação do documento 3\n",
    "index.index(\"o\",3,1)\n",
    "index.index(\"prédio\",3,1)\n",
    "index.index(\"verde\",3,1)\n",
    "\n",
    "index.finish_indexing()"
   ]
  },
  {
   "cell_type": "markdown",
   "metadata": {},
   "source": [
    "A classe `Index` é que irá manter o dicinário com o vocabulário do índice e, dependendo de sua implementação, suas ocorrencias. Iremos fazer duas implementações: a classe `HashIndex`, que faz o indice e suas ocorrencias em memória principal e a classe `FileIndex`, que armazena as ocorrências em arquivo, ambas subclasses de `Index`. O método `finish_indexing` é um método que não está implementado no `Index` e é implementado (opcionalmente) nas suas subclasses caso haja necessidade de fazer algo no final da indexação. Em nosso caso, apenas a classe `FileIndex` irá precisar."
   ]
  },
  {
   "cell_type": "markdown",
   "metadata": {},
   "source": [
    "Agora, você deverá implementar a classe HashIndex. Para sua implementação, você deverá completar os seguintes métodos/atributo calculados:\n",
    "- `create_index_entry`: cria uma nova entrada no índice utilizando, se necessário, o id do termo passado como parâmetro - não será necessário agora. A implementação deste método é **super simples** - apenas substitua o None. Verifique também o método `index` da superclasse para entender melhor o que será retornado;\n",
    "- `add_index_occur`: Adiciona uma nova ocorrencia na entrada deste índice. Você precisará da entrada do termo atual, o id do documento e frequencia do termo no documento, passado como parâmetro. Atualize substituindo os `None`. Veja também o modo `index` da superclasse para entender melhor como o método funciona.\n",
    "\n",
    "Faça os testes baixo para garantir que a atividade atual e as duas anteriores foram implementadas corretamente. Nos primeiros dois testes, você ainda não verá a lista de ocorrências, pois o método para obtê-la será implementado a seguir. "
   ]
  },
  {
   "cell_type": "code",
   "execution_count": null,
   "metadata": {},
   "outputs": [],
   "source": [
    "!python3 -m index.index_structure_test StructureTest.test_vocabulary"
   ]
  },
  {
   "cell_type": "code",
   "execution_count": null,
   "metadata": {},
   "outputs": [],
   "source": [
    "!python3 -m index.index_structure_test StructureTest.test_document_count"
   ]
  },
  {
   "cell_type": "markdown",
   "metadata": {},
   "source": [
    "Agora, implemente os métodos:"
   ]
  },
  {
   "cell_type": "markdown",
   "metadata": {},
   "source": [
    "- `get_occurrence_list`: Retornará a lista de ocorrencias de um determinado termo. Considerando o exemplo apresentado no inicio desta atividade, `index.get_occurrence_list('casa')` retornará a lista `[TermOccurrence(1,2,2), TermOccurrence(2,2,1)]`. Caso um termo não exista, este método deverá retornar uma lista vazia. Logo após, execute o teste abaixo:"
   ]
  },
  {
   "cell_type": "code",
   "execution_count": null,
   "metadata": {},
   "outputs": [],
   "source": [
    "!python3 -m index.index_structure_test StructureTest.test_get_occurrence_list"
   ]
  },
  {
   "cell_type": "markdown",
   "metadata": {},
   "source": [
    "- `document_count_with_term`: Retorna a quantidade de documentos que possuem um determinado termo. Considerando o exemplo apresentado no inicio desta atividade, `index.document_count_with_term('casa')` retornará 2. Caso um termo não exista, este método deverá retornar zero. Logo após, execute o teste abaixo:"
   ]
  },
  {
   "cell_type": "code",
   "execution_count": null,
   "metadata": {},
   "outputs": [],
   "source": [
    "!python3 -m index.index_structure_test StructureTest.test_document_count_with_term"
   ]
  },
  {
   "cell_type": "markdown",
   "metadata": {},
   "source": [
    "**Atividade 4 - métodos de comparação da classe TermOccurrence**: Eventualmente iremos precisar ordenar as ocorrências Por isso, temos que implementar os [comparadores de `__eq__` e `__lt__`](https://docs.python.org/3.7/reference/datamodel.html#object.__lt__) além de usar o _decorator_ [total_ordering](https://docs.python.org/3.7/library/functools.html#functools.total_ordering) - [veja também aqui](https://portingguide.readthedocs.io/en/latest/comparisons.html#rich-comparisons). `__eq__` retorna igual se um objeto é considerado igual ao outro. Considere que uma ocorrencia é igual a outra se o id do termo dela e o id do documento forem iguais. \n",
    "\n",
    "O comparador `<` é implementado pelo método `__lt__` que retorna verdadeiro sde o objeto corrrente `self` é menor do que o objeto passado como parametro. A ocorrencia deverá ser ordenada primeiramente pelo seu `term_id` e, logo após, pelo `doc_id`. Faça o exemplo abaixo para testar (não esqueça de reiniciar o Kernel quando modificar o código):"
   ]
  },
  {
   "cell_type": "code",
   "execution_count": null,
   "metadata": {},
   "outputs": [],
   "source": [
    "from index.structure import *\n",
    "t1 = TermOccurrence(1,1,2)\n",
    "t2 = TermOccurrence(3,1,2)\n",
    "t3 = TermOccurrence(1,2,2)\n",
    "t4 = TermOccurrence(2,2,2)\n",
    "t5 = TermOccurrence(2,2,2)\n",
    "\n",
    "\n",
    "print(f\"Resultado obtido: {t1 == t5} - esperado: False\")\n",
    "print(f\"Resultado obtido: {t4 == t5} - esperado: True\")\n",
    "print(f\"Resultado obtido: {t1 != t1} - esperado: False\")\n",
    "print(f\"Resultado obtido: {t1 == None} - esperado: False\")\n",
    "print(f\"Resultado obtido: {t1 < t2} - esperado: True\")\n",
    "print(f\"Resultado obtido: {t2 > t3} - esperado: False\")\n",
    "print(f\"Resultado obtido: {t3 < t4} - esperado: True\")\n",
    "print(f\"Resultado obtido: {t2 > t4} - esperado: False\")\n",
    "print(f\"Resultado obtido: {t2 > None} - esperado: False\")"
   ]
  },
  {
   "cell_type": "markdown",
   "metadata": {},
   "source": [
    "## Construção de índice usando arquivo"
   ]
  },
  {
   "cell_type": "markdown",
   "metadata": {},
   "source": [
    "A construção de índice usando apenas memória principal fácil de implementar e eficiente em termos de tempo de execução. Porém, quando precisamos de indexar milhões/bilhões de páginas, é muitas vezes inviável armazenarmos tudo em memória principal. \n",
    "\n",
    "Para resolver esse problema, uma solução é mantermos o vocabulário em memória principal e as ocorrências em memória secundária. Assim, teriamos o mesmo atributo `dic_index` na classe `Index`. Porém, cada entrada (termo) referenciará as ocorrencias em arquivo. Utilizando exemplo da atividade 3 neste contexto, no final da indexação, o `dic_index` deve ficar da seguinte forma: "
   ]
  },
  {
   "cell_type": "code",
   "execution_count": null,
   "metadata": {},
   "outputs": [],
   "source": [
    "{\"a\": TermFilePosition(1, 0, 2), \n",
    " \"casa\": TermFilePosition(2, 20, 2), \n",
    " \"verde\": TermFilePosition(3, 40, 2),\n",
    " \"é\": TermFilePosition(4, 60, 1), \n",
    " \"uma\": TermFilePosition(5, 70, 1), \n",
    " \"bonita\": TermFilePosition(6, 80, 2), \n",
    " \"o\": TermFilePosition(7, 100, 1), \n",
    " \"prédio\": TermFilePosition(8, 110, 1), \n",
    "}\n",
    "\n",
    "\n"
   ]
  },
  {
   "cell_type": "markdown",
   "metadata": {},
   "source": [
    "e as ocorrencias, ordenadas por termo e, logo após, por documento ficariam em um arquivo na seguinte ordem:"
   ]
  },
  {
   "cell_type": "code",
   "execution_count": null,
   "metadata": {},
   "outputs": [],
   "source": [
    "[TermOccurrence(1,1,1), \n",
    " TermOccurrence(2,1,1), \n",
    " TermOccurrence(1,2,2), \n",
    " TermOccurrence(2,2,1),\n",
    " TermOccurrence(1,3,1), \n",
    " TermOccurrence(3,3,1),\n",
    " TermOccurrence(1,4,1),\n",
    " TermOccurrence(1,5,1),\n",
    " TermOccurrence(1,6,1),\n",
    " TermOccurrence(2,6,1),\n",
    " TermOccurrence(3,7,1),\n",
    " TermOccurrence(3,8,1)]"
   ]
  },
  {
   "cell_type": "markdown",
   "metadata": {},
   "source": [
    "em que cada instancia da classe `TermFilePosition` é a especificação da posição inicial de um `term_id` em um arquivo  além de especificar também a quantidade de ocorrencias desse termo. Essa posição inicial e quantidade são definidas nos atributos atributos `term_file_start_pos` e `doc_count_with_term`, respectivamente. A posição inicial está em bytes e, nesse exemplo, foi considerado que cada TermOcurrence possui 10 bytes. Assim, por exemplo, o termo casa (term_id=2) inicia-se na posição 20 e possui duas ocorrências. Com isso, é possível obter todas as ocorrencias de um determinado termo."
   ]
  },
  {
   "cell_type": "markdown",
   "metadata": {},
   "source": [
    "Para deixarmos a estrutura dessa forma, temos um dificultador: no arquivo, temos que ordenar as ocorrencias pelo termo, porém, indexamos por documento (veja na atividade 3). Assim, se gravássemos as ocorrências assim que indexarmos, as gravariamos agrupadas por documento."
   ]
  },
  {
   "cell_type": "markdown",
   "metadata": {},
   "source": [
    "Assim, temos que garantir uma ordenação por termo do arquivo externo, lembrando que nem sempre é possível armazenar todo o arquivo em memória principal. Para resolvermos isso, faremos o seguinte:"
   ]
  },
  {
   "cell_type": "markdown",
   "metadata": {},
   "source": [
    "- Sempre, ao indexar, salvaremos o indice em uma lista (temporária) de ocorrencia de termos `lst_occurrences_tmp`\n",
    "- Usaremos o método `save_tmp_occurrences` para, assim que a lista estiver com um determinado tamanho, ordená-la pelo termo e salvar de formar ordenada em um novo arquivo de indice com a todas as ocorrencias. Para que seja feito isso, você deverá fazer uma ordenação externa lendo m consideração o índice em arquivo atual e a lista de ocorrencias temporárias. Segue o passo a passo:\n",
    "    - (1) ordene a lista `lst_occurrences_tmp`. Lembre-se que você implementou os comparadores das instancias TermOccurrence, assim, a ordenação e descobrir o menor valor entre as ocorrencias é uma operação simples;\n",
    "    - (2) criar um arquivo novo;\n",
    "    - (3) compare a primeira posição da lista com a primeira posição do arquivo de índice, sempre inserindo a ocorrencia considerada com o menor entre elas no novo arquivo. Lembrando novamente que os comparadores foram implementados e que você possui os métodos `next_from_list` e `next_from_file` - que será implementado na atividade 5(b) para ajudar;\n",
    "    - (4) esse novo arquivo passará a ser o índice. Exclua o indice antigo e limpe a lista de ocorrencias `lst_occurrences_tmp`.\n",
    "- O método `finish_indexing` é o método que será chamado ao finalizar a indexação. Neste contexto ele será usado para organizar o `dic_index` atualizando os atributos `term_file_start_pos` e `doc_count_with_term` para os valores corretos.\n",
    "\n",
    "Na primeira execução, não haverá arquivo e você adicionará a lista toda no arquivo de forma sequencial. Fazendo esse procedimento, você sempre irá garantir um arquivo ordenado da forma esperada."
   ]
  },
  {
   "cell_type": "markdown",
   "metadata": {},
   "source": [
    "**Atividade 5(a) - método de escrita no arquivo:** Iremos necessitar, em algum momento, a escrita de uma instancia de `TermOccurrence` em arquivo. Assim deveremos implementar o método de escrita em arquivo nessa classe. Para economizar espaço e por simplicidade, será escrito em um arquivo binário armazenando os três atributos inteiros. Cada inteiro será armazenado em 4 bytes - será o suficiente para a nossa indexação. Veja um exemplo abaixo de escrita, leitura e impressão do posicionamento no arquivo (esses métodos serão uteis nessa e nas próximas atividades)."
   ]
  },
  {
   "cell_type": "code",
   "execution_count": null,
   "metadata": {},
   "outputs": [],
   "source": [
    "x = 100\n",
    "with open(\"xuxu.idx\",\"wb\") as file:\n",
    "    print(file.tell())\n",
    "    file.write(x.to_bytes(4,byteorder=\"big\"))\n",
    "    print(file.tell())\n",
    "with open(\"xuxu.idx\",\"rb\") as file:\n",
    "    print(f\"número: {int.from_bytes(file.read(4),byteorder='big')}\")"
   ]
  },
  {
   "cell_type": "markdown",
   "metadata": {},
   "source": [
    "**Atividade 5(b) - métodos next_from_file e next_from_list**: Antes de fazer a ordenação, é interessante implementar esses dois métodos que irão auxiliar na obtenção do menor elemento no arquivo e na lista, respectivamente. Considerando que a lista e o arquivo estão ordenados de forma crescente, temos que obter o primeiro elemento da lista e retirá-lo (utilize o [método pop](https://docs.python.org/3.1/tutorial/datastructures.html)).  \n",
    "\n",
    "Para a leitura do arquivo, iremos usar a API [pickle](https://docs.python.org/3/library/pickle.html) que facilita inserir/carregar estruturas em arquivo binário. O método `next_from_file` já possui um arquivo aberto e você deverá ler a próxima entrada por meio da função `load` da API `pickle`. Caso não exista próximo elemento, é lançado uma exceção. Em ambos os métodos, caso não exista próximo elemento, será retonado `None`. \n",
    "\n",
    "Complete a implementação substituindo os `None` quando julgar necessário."
   ]
  },
  {
   "cell_type": "markdown",
   "metadata": {},
   "source": [
    "**Atividade 7 - método save_tmp_occurrences: ** Implemente o método `save_tmp_occurrences`. Esse método deverá salvar a lista `lst_occurrences_tmp` em arquivo de forma ordenada, conforme explicado anteriormente. Neste método, você não precisa preocupar com o atributo `dic_index`. Leve em consideração os seguintes atributos/métodos:\n",
    "\n",
    "- `idx_file_counter`:  No código, você irá criar sempre novos indices, excluindo o antigo. Este atributo será útil para definirmos o nome do arquivo do índice. O novo arquivo do índice chamará `occur_index_X` em que $X$ é o número do mesmo. \n",
    "- `str_idx_file_name`: Atributo que armazena o arquivo indice atual. A primeira vez que executarmos `save_tmp_occurrences` não haverá arquivo criado e, assim `str_idx_file_name = None`\n",
    "- `lst_occurrences_tmp`: Lista de ocorrencias a serem armazenadas em arquivo\n",
    "- `next_from_file` e `next_from_list`: implementados na atividade anterior, para obter o proximo item do arquivo ou da lista. Importantes para fazer a ordenação.\n",
    "\n"
   ]
  },
  {
   "cell_type": "markdown",
   "metadata": {},
   "source": [
    "Execute o teste unitário abaixo para verificar corretude deste código:"
   ]
  },
  {
   "cell_type": "code",
   "execution_count": null,
   "metadata": {},
   "outputs": [],
   "source": [
    "!python3 -m index.file_index_test FileIndexTest.test_save_tmp_occurrences"
   ]
  },
  {
   "cell_type": "markdown",
   "metadata": {},
   "source": [
    "**Atividade 8: método finish_indexing: ** Agora, com as ocorrências organizadas no arquivo por termo, você deverá implementar o método `finish_indexing` para atualizar o atributo `dic_index` com a posição inicial e quantidade de documentos de cada termo nas suas instancias `TermFilePosition`. Logo após, execute o teste unitário abaixo."
   ]
  },
  {
   "cell_type": "code",
   "execution_count": null,
   "metadata": {},
   "outputs": [],
   "source": [
    "!python3 -m index.file_index_test FileIndexTest.test_finish_indexing"
   ]
  },
  {
   "cell_type": "markdown",
   "metadata": {},
   "source": [
    "**Atividade 9 - implementação em `FileIndex` dos métodos abstratos da classe Index: ** Como vocês perceberam, `FileIndex` é subclasse de `Index`. Assim,  precisamos implementar os métodos abstratos da classe `Index`:\n",
    "\n",
    "- `create_index_entry`: no `FileIndex` para criar uma nova entrada no índice, você deverá retornar uma instancia de `TermFilePosition` para este novo `term_id`. Ao criá-lo, você não precisa de definir a posição inicial do arquivo nem a quantidade de documentos. Conforme vocês implementaram nas atividades anteriores, isso é feito apenas no momento de finalização da indexação;\n",
    "- `add_index_occur`: Neste caso, você deverá criar e adicionar uma nova ocorrencia na lista de ocorrencias temporárias `lst_occurrences_tmp` e, caso senha passado o limite `FileIndex.TMP_OCCURRENCES_LIMIT` do número máximo de ocorrencias na lista, chamar o método `save_tmp_occurrence`.\n",
    "- `get_occurrence_list` e `document_count_with_term`: Possuem as mesmas funcionalidades descritas na atividade 3, porém, agora você deverá considerar a estrutura criada no `FileIndex`. Lembrem-se que esse método é só chamado após a finalização da indexação, assim, considere que o índice já está pronto."
   ]
  },
  {
   "cell_type": "markdown",
   "metadata": {},
   "source": [
    "**Atividade 10 - Teste unitário** Dessa vez, você deverá alterar uma classe de teste unitário para conseguir executá-la. \n",
    "\n",
    "Agora iremos testar os métodos get_occurrence_list e document_count_with_term. Lembre-se que já temos um teste unitário para isso, porém ele testa a estrutura de um `HashIndex`. Neste caso, iremos apenas mudar a estrutura, mas os métodos serão o mesmo, por isso, conseguiremos reaproveitar o teste feito anteriormente criando apenas uma nova classe de teste. \n",
    "\n",
    "Implementando este teste, você perceberá como é lindo usar orientação objetos ao seu favor 🥰. No arquivo `index_structure_test.py` você possui a classe `FileStructureTest` que é subclasse de nosso teste criado `StructureTest`.  Você deverá implementar o método `setUp` na classe `FileStructureTest` que sobrepõe o método de mesmo nome na classe `StructureTest`. O método `setUp` é executado sempre antes do teste. Este método que você irá criar irá fazer exatamente a mesma coisa que o criado em `StructureTest` porém, você deverá instanciar um `FileIndex` ao invés de um `HashIndex`. Logo após, execute os testes:"
   ]
  },
  {
   "cell_type": "code",
   "execution_count": null,
   "metadata": {},
   "outputs": [],
   "source": [
    "!python3 -m index.index_structure_test  FileStructureTest.test_document_count_with_term"
   ]
  },
  {
   "cell_type": "code",
   "execution_count": null,
   "metadata": {},
   "outputs": [],
   "source": [
    "!python3 -m index.index_structure_test  FileStructureTest.test_get_occurrence_list"
   ]
  },
  {
   "cell_type": "markdown",
   "metadata": {},
   "source": [
    "De forma similar, também criamos um teste de performance. Verifique a performance da indexação em arquivo e em memória ao indexar milhões de ocorrencias de termos utilizando os testes abaixo. Note que, desta vez, estamso chamando os testes por meio de comandos Python e não pelo terminal. Assim, caso queira fazer alguma alteração no arquivos `.py`, você deve reiniciar o kernel."
   ]
  },
  {
   "cell_type": "markdown",
   "metadata": {},
   "source": [
    "- Índice completamente em memória principal:"
   ]
  },
  {
   "cell_type": "code",
   "execution_count": null,
   "metadata": {},
   "outputs": [],
   "source": [
    "import unittest\n",
    "from index.performance_test import PerformanceTest\n",
    "\n",
    "PerformanceTest.NUM_DOCS = 2500\n",
    "PerformanceTest.NUM_TERM_PER_DOC = 500\n",
    "\n",
    "suite = unittest.TestLoader().loadTestsFromTestCase(PerformanceTest)\n",
    "unittest.TextTestRunner(verbosity=2).run(suite)"
   ]
  },
  {
   "cell_type": "markdown",
   "metadata": {},
   "source": [
    "- Índice com ocorrencias em memória secundária. Veja que, abaixo, que você pode ajustar o parametro de número de ocorrências em memória. Será muito útil para não gastar tanto tempo ao indexar o conteúdo da Wikipédia. "
   ]
  },
  {
   "cell_type": "code",
   "execution_count": null,
   "metadata": {},
   "outputs": [],
   "source": [
    "import unittest\n",
    "from index.performance_test import FilePerformanceTest,PerformanceTest\n",
    "from index.structure import FileIndex\n",
    "\n",
    "PerformanceTest.NUM_DOCS = 10\n",
    "PerformanceTest.NUM_TERM_PER_DOC = 10000\n",
    "FileIndex.TMP_OCCURRENCES_LIMIT = 10000\n",
    "\n",
    "suite = unittest.TestLoader().loadTestsFromTestCase(FilePerformanceTest)\n",
    "unittest.TextTestRunner(verbosity=2).run(suite)"
   ]
  },
  {
   "cell_type": "code",
   "execution_count": null,
   "metadata": {},
   "outputs": [],
   "source": [
    "import unittest\n",
    "from index.performance_test import FilePerformanceTest,PerformanceTest\n",
    "from index.structure import FileIndex\n",
    "\n",
    "PerformanceTest.NUM_DOCS = 10\n",
    "PerformanceTest.NUM_TERM_PER_DOC = 50000\n",
    "FileIndex.TMP_OCCURRENCES_LIMIT = 10000\n",
    "\n",
    "suite = unittest.TestLoader().loadTestsFromTestCase(FilePerformanceTest)\n",
    "unittest.TextTestRunner(verbosity=2).run(suite)"
   ]
  },
  {
   "cell_type": "markdown",
   "metadata": {},
   "source": [
    "Logo após executado este teste, você deverá usar a biblioteca [JSON](https://docs.python.org/3/library/json.html) ou [Pickle](https://docs.python.org/3/library/pickle.html) para armazenar o vocabulário. Com isso, crie um método de leitura do FileIndex e de escrita. O método de leitura deverá ser um método estatico que retorna um objeto da classe indice previamente criado."
   ]
  },
  {
   "cell_type": "markdown",
   "metadata": {},
   "source": [
    "## Indexador de HTML "
   ]
  },
  {
   "cell_type": "markdown",
   "metadata": {},
   "source": [
    "Agora, você irá alterar o arquivo `indexer.py` para [preprocessar conteúdo HTML](https://docs.google.com/presentation/d/1C22jQWIYobiqMx8SmP1y2lr1uSlvJSu3ayu5lXC5d8A/edit?usp=sharing) e depois indexá-lo. Com isso, você poderá usá-lo para indexação das páginas HTML, como os da Wikipédia. A classe `Cleaner` será responsável pelo preprocessamento e a HTMLIndexer, para a indexação."
   ]
  },
  {
   "cell_type": "code",
   "execution_count": null,
   "metadata": {},
   "outputs": [],
   "source": [
    "!pip install nltk"
   ]
  },
  {
   "cell_type": "code",
   "execution_count": null,
   "metadata": {},
   "outputs": [],
   "source": [
    "from index.indexer import *\n",
    "#importamos o módulo structure\n",
    "#novamente para não precisar de executar o código do início da tarefa\n",
    "from index.structure import *"
   ]
  },
  {
   "cell_type": "markdown",
   "metadata": {},
   "source": [
    "**Atividade 11 - Limpeza dos dados com a classe Cleaner: ** A classe `Cleaner` é responsável por preprocessar o conteúdo HTML para que ele esteja preparado para indexação. Essa classe tem alguns _flags_ para definir se algum tipo de processamento opcional será feito (por exemplo, _stemming_ e remoção de _stopwords_). Para isso, você deverá implementar pequenos métodos para fazer a limpeza. Esses códigos são pequenos pois temos lindas APIs para nos ajudar 💕. Você irá fazer o processamento básico e, se quiser, pode melhorar a implementação criando exceções na remoção de acentos e não retirando maiúsculas e minúsculas de certas palavras e unindo palavras compostas, por exemplo."
   ]
  },
  {
   "cell_type": "markdown",
   "metadata": {},
   "source": [
    "Para cada tarefa, há um método para ser criado a seguir os testes iniciais serão feitos aqui no Jupyter. Não esqueça de reiniciar o kernel sempre que alterar algo no código. Logo após, haverá um [teste de integração](https://en.wikipedia.org/wiki/Integration_testing) para avaliar a indexação como um todo.\n",
    "\n",
    "- **Transformação de HTML para texto: ** Na limpeza dos dados, iremos remover tudo que não será indexado - ou seja, o código HTML. Para isso, iremos implementar o método `html_to_plain_text` que transformará o HTML em texto corrido. Você pode utilizar o [BeautifulSoup](https://www.crummy.com/software/BeautifulSoup/bs4/doc/) para isso e o método get_text. "
   ]
  },
  {
   "cell_type": "code",
   "execution_count": null,
   "metadata": {},
   "outputs": [],
   "source": [
    "cleaner_test = Cleaner(stop_words_file=\"stopwords.txt\",\n",
    "                        language=\"portuguese\",\n",
    "                        perform_stop_words_removal=True,\n",
    "                        perform_accents_removal=True,\n",
    "                        perform_stemming=True)\n",
    "cleaner_test.html_to_plain_text(\"&copy; oi! Meu nome é <strong>Hasan</strong>\")\n",
    "#esperado: '© oi! Meu nome é Hasan'"
   ]
  },
  {
   "cell_type": "markdown",
   "metadata": {},
   "source": [
    "- **Verifica se é stopword**: O método `is_stopword` retorna verdadeiro se uma palavra, passada como parâmetro, é stopword. Para isso, você irá usar o atributo `set_stop_words`. Este atibuto foi inicializado com um conjunto de stopwords de um arquivo. Esse arquivo, para testes, tem poucas stopwords. \n",
    "    "
   ]
  },
  {
   "cell_type": "code",
   "execution_count": null,
   "metadata": {},
   "outputs": [],
   "source": [
    "print(f\"{cleaner_test.is_stop_word('japão')}, esperado: False\")\n",
    "print(f\"{cleaner_test.is_stop_word('cama')}, esperado: False\")\n",
    "print(f\"{cleaner_test.is_stop_word('é')}, esperado: True\")\n"
   ]
  },
  {
   "cell_type": "markdown",
   "metadata": {},
   "source": [
    "- **Stemming**: você deverá implementar o método word_stem para ralizar o stemming. Você deverá usar a [classe SnowballStemmer da API NLTK](https://www.nltk.org/howto/stem.html). Um objeto dessa classe já está instanciado no atributo `stemmer`. "
   ]
  },
  {
   "cell_type": "code",
   "execution_count": null,
   "metadata": {},
   "outputs": [],
   "source": [
    "print(f\"{cleaner_test.word_stem('verdade')}, esperado: verdad\")\n",
    "print(f\"{cleaner_test.word_stem('estudante')}, esperado: estud\")\n",
    "print(f\"{cleaner_test.word_stem('amado')}, esperado: amad\")\n"
   ]
  },
  {
   "cell_type": "markdown",
   "metadata": {},
   "source": [
    "- **Remoção de acentos:** Iremos fazer de uma forma bem simples a remoção de acentos: aplicando uma tabela de substituição de caracteres. Para isso, você deverá criar uma [tabela de tradução](https://docs.python.org/3.3/library/stdtypes.html?highlight=maketrans#str.maketrans) no atributo `accents_translation_table` baseando-se nas variáveis `in_table` e `out_table` também presentes no construtor (substitua o None)."
   ]
  },
  {
   "cell_type": "code",
   "execution_count": null,
   "metadata": {},
   "outputs": [],
   "source": [
    "print(f\"{cleaner_test.remove_accents('canção')}, esperado: cancao\")\n",
    "print(f\"{cleaner_test.remove_accents('elétrico')}, esperado: eletrico\")\n",
    "print(f\"{cleaner_test.remove_accents('amado')}, esperado: amado\")\n"
   ]
  },
  {
   "cell_type": "markdown",
   "metadata": {},
   "source": [
    "Agora você irá fazer o método `preprocess_word` ele irá receber como parametro uma palavra e irá verificar se é uma palavra válida de ser indexada. Caso não seja, retornará None. Caso contrário, irá retornar a palvra preprocessada. Uma palavra válida a ser indexada é aquela que não é pontuação e não é stopword (caso `perform_stop_words_removal = True`). Para que seja feito o preprocessamento você deverá: transformar o texto para minúsculas, remover acento (se `perform_accents_removal=True`), fazer o stemming (se `perform_stemming = True`)."
   ]
  },
  {
   "cell_type": "markdown",
   "metadata": {},
   "source": [
    "**Atividade 12 - Classe HTMLIndexer - método text_word_count: **  Você deverá implementar o método `text_word_count`, a partir de um texto. Esse método retorna um dicionário em que, para cada palavra no texto, será apresentado sua frequência. Considere que o texto já está limpo e é necessário fazer apenas o processamento das palavras.\n",
    "\n",
    "Para isso, você deverá:  dividir o texto em tokens (que, no nosso caso, são as palavras e pontuações); preprocessar cada palavra usando o `HTMLIndexer.cleaner`; e, se for uma palavra válida, contabilizá-la. Para isso, será necessário [o método word_tokenize da API NLTK](https://kite.com/python/docs/nltk.word_tokenize)"
   ]
  },
  {
   "cell_type": "code",
   "execution_count": null,
   "metadata": {},
   "outputs": [],
   "source": [
    "index = HashIndex()\n",
    "indexador_teste = HTMLIndexer(index)\n",
    "indexador_teste.text_word_count(\"Olá! Qual é o dado dado que precisa?\")\n",
    "#esperado:\n",
    "#{'dad': 2, 'o': 1, 'ola': 1, 'precis': 1, 'qual': 1, 'que': 1}"
   ]
  },
  {
   "cell_type": "markdown",
   "metadata": {},
   "source": [
    "**Atividade 13 - método index_text: ** Implemente o método `index_text` que deverá (1) converter o HTML para texto simples usando `HTMLIndexer.cleaner`; (2) converter o texto em um dicionário de ocorrencias de palavras com sua frequencia (metodo da atividade 12); e (3) indexar cada palavra deste dicionário."
   ]
  },
  {
   "cell_type": "code",
   "execution_count": null,
   "metadata": {},
   "outputs": [],
   "source": [
    "\n",
    "index = HashIndex()\n",
    "indexador_teste = HTMLIndexer(index)\n",
    "#o HTML está mal formado de propósito ;)\n",
    "indexador_teste.index_text(10,\"<strong>Ol&aacute;! </str> Quais são os dados que precisará?\")\n",
    "\n",
    "indexador_teste.index.dic_index"
   ]
  },
  {
   "cell_type": "markdown",
   "metadata": {},
   "source": [
    "Esperado:\n",
    "<pre>\n",
    "{'dad': [(term_id:4 doc: 10 freq: 1)],\n",
    " 'ola': [(term_id:0 doc: 10 freq: 1)],\n",
    " 'os': [(term_id:3 doc: 10 freq: 1)],\n",
    " 'precis': [(term_id:6 doc: 10 freq: 1)],\n",
    "'qua': [(term_id:1 doc: 10 freq: 1)],\n",
    " 'que': [(term_id:5 doc: 10 freq: 1)],\n",
    " 'sao': [(term_id:2 doc: 10 freq: 1)]}\n",
    "</pre>"
   ]
  },
  {
   "cell_type": "markdown",
   "metadata": {},
   "source": [
    "**Atividade 14: Indexação de um diretorio com subdiretorios** Você deverá implementar o método `index_text_dir` que, dado um diretorio, navega em todos os seus subdiretórios e indexa todos os arquivos HTMLs. Considere que os arquivos sejam sempre nomeados pelo seu ID. Veja o exemplo em `doc_test`. Logo após, execute o teste unitário para ver a corretude do seu indexador."
   ]
  },
  {
   "cell_type": "code",
   "execution_count": null,
   "metadata": {},
   "outputs": [],
   "source": [
    "!python3 -m index.indexer_test IndexerTest.test_indexer"
   ]
  },
  {
   "cell_type": "markdown",
   "metadata": {},
   "source": [
    "Agora, para fazer a especificação do projeto, você deve baixar o dataset da Wikipédia e indexá-lo. Você deve também achar um arquivo de stopwords com mais termos aos que feito neste teste."
   ]
  },
  {
   "cell_type": "code",
   "execution_count": 1,
   "metadata": {},
   "outputs": [
    {
     "name": "stderr",
     "output_type": "stream",
     "text": [
      "[nltk_data] Downloading package punkt to\n",
      "[nltk_data]     /Users/jonathan.candido/nltk_data...\n",
      "[nltk_data]   Package punkt is already up-to-date!\n"
     ]
    }
   ],
   "source": [
    "from index.indexer import *\n",
    "#importamos o módulo structure\n",
    "#novamente para não precisar de executar o código do início da tarefa\n",
    "from index.structure import *"
   ]
  },
  {
   "cell_type": "code",
   "execution_count": 1,
   "metadata": {},
   "outputs": [
    {
     "ename": "NameError",
     "evalue": "name 'Cleaner' is not defined",
     "output_type": "error",
     "traceback": [
      "\u001b[0;31m---------------------------------------------------------------------------\u001b[0m",
      "\u001b[0;31mNameError\u001b[0m                                 Traceback (most recent call last)",
      "\u001b[0;32m<ipython-input-1-9dee17fc21b8>\u001b[0m in \u001b[0;36m<module>\u001b[0;34m\u001b[0m\n\u001b[1;32m      1\u001b[0m \u001b[0;31m## lista de stopwords retirada de: https://gist.github.com/alopes/5358189\u001b[0m\u001b[0;34m\u001b[0m\u001b[0;34m\u001b[0m\u001b[0;34m\u001b[0m\u001b[0m\n\u001b[0;32m----> 2\u001b[0;31m cleaner_test = Cleaner(stop_words_file=\"./wiki/stopwords.txt\",\n\u001b[0m\u001b[1;32m      3\u001b[0m                         \u001b[0mlanguage\u001b[0m\u001b[0;34m=\u001b[0m\u001b[0;34m\"portuguese\"\u001b[0m\u001b[0;34m,\u001b[0m\u001b[0;34m\u001b[0m\u001b[0;34m\u001b[0m\u001b[0m\n\u001b[1;32m      4\u001b[0m                         \u001b[0mperform_stop_words_removal\u001b[0m\u001b[0;34m=\u001b[0m\u001b[0;32mTrue\u001b[0m\u001b[0;34m,\u001b[0m\u001b[0;34m\u001b[0m\u001b[0;34m\u001b[0m\u001b[0m\n\u001b[1;32m      5\u001b[0m                         \u001b[0mperform_accents_removal\u001b[0m\u001b[0;34m=\u001b[0m\u001b[0;32mTrue\u001b[0m\u001b[0;34m,\u001b[0m\u001b[0;34m\u001b[0m\u001b[0;34m\u001b[0m\u001b[0m\n",
      "\u001b[0;31mNameError\u001b[0m: name 'Cleaner' is not defined"
     ]
    }
   ],
   "source": [
    "## lista de stopwords retirada de: https://gist.github.com/alopes/5358189\n",
    "cleaner_test = Cleaner(stop_words_file=\"./wiki/stopwords.txt\",\n",
    "                        language=\"portuguese\",\n",
    "                        perform_stop_words_removal=True,\n",
    "                        perform_accents_removal=True,\n",
    "                        perform_stemming=True)\n",
    "print(cleaner_test.set_stop_words)\n"
   ]
  },
  {
   "cell_type": "code",
   "execution_count": 2,
   "metadata": {
    "scrolled": false
   },
   "outputs": [
    {
     "name": "stderr",
     "output_type": "stream",
     "text": [
      "[nltk_data] Downloading package punkt to\n",
      "[nltk_data]     /Users/jonathan.candido/nltk_data...\n",
      "[nltk_data]   Package punkt is already up-to-date!\n"
     ]
    },
    {
     "name": "stdout",
     "output_type": "stream",
     "text": [
      "Arquivo -> 0\n",
      "Arquivo -> 62\n",
      "Arquivo -> 133\n",
      "Arquivo -> 941\n",
      "Arquivo -> 1038\n",
      "Arquivo -> 1076\n",
      "Arquivo -> 1122\n",
      "Arquivo -> 1213\n",
      "Arquivo -> 1238\n",
      "Arquivo -> 1282\n",
      "Arquivo -> 1332\n",
      "Arquivo -> 1400\n",
      "Arquivo -> 1786\n",
      "Arquivo -> 1881\n",
      "Arquivo -> 1959\n",
      "Arquivo -> 2009\n",
      "Arquivo -> 2108\n",
      "Arquivo -> 2148\n",
      "Arquivo -> 2516\n",
      "Arquivo -> 2564\n",
      "Arquivo -> 2602\n",
      "Arquivo -> 2638\n",
      "Arquivo -> 2668\n",
      "Arquivo -> 2770\n",
      "Arquivo -> 2871\n",
      "Arquivo -> 2918\n",
      "Arquivo -> 2956\n",
      "Arquivo -> 2997\n",
      "Arquivo -> 3459\n",
      "Arquivo -> 3563\n",
      "Arquivo -> 3658\n",
      "Arquivo -> 3703\n",
      "Arquivo -> 3751\n",
      "Arquivo -> 3787\n",
      "Arquivo -> 3822\n",
      "Arquivo -> 3873\n",
      "Arquivo -> 3923\n",
      "Arquivo -> 3980\n",
      "Arquivo -> 4024\n",
      "Arquivo -> 4057\n",
      "Arquivo -> 4083\n",
      "Arquivo -> 4113\n",
      "Arquivo -> 4174\n",
      "Arquivo -> 4208\n",
      "Arquivo -> 4253\n",
      "Arquivo -> 4292\n",
      "Arquivo -> 4343\n",
      "Arquivo -> 4399\n",
      "Arquivo -> 4431\n",
      "Arquivo -> 4460\n",
      "Arquivo -> 4500\n",
      "Arquivo -> 4549\n",
      "Arquivo -> 4633\n",
      "Arquivo -> 4700\n",
      "Arquivo -> 4757\n",
      "Arquivo -> 4793\n",
      "Arquivo -> 4819\n",
      "Arquivo -> 4856\n",
      "Arquivo -> 4878\n",
      "Arquivo -> 4936\n",
      "Arquivo -> 5018\n",
      "Arquivo -> 5060\n",
      "Arquivo -> 5093\n",
      "Arquivo -> 5144\n",
      "Arquivo -> 5173\n",
      "Arquivo -> 5216\n",
      "Arquivo -> 5324\n",
      "Arquivo -> 5886\n",
      "Arquivo -> 5930\n",
      "Arquivo -> 6031\n",
      "Arquivo -> 6075\n",
      "Arquivo -> 6118\n",
      "Arquivo -> 6709\n",
      "Arquivo -> 6733\n",
      "Arquivo -> 6833\n",
      "Arquivo -> 6880\n",
      "Arquivo -> 6935\n",
      "Arquivo -> 7036\n",
      "Arquivo -> 7139\n",
      "Arquivo -> 7172\n",
      "Arquivo -> 7261\n",
      "Arquivo -> 7309\n",
      "Arquivo -> 7367\n",
      "Arquivo -> 7892\n",
      "Arquivo -> 7988\n",
      "Arquivo -> 8024\n",
      "Arquivo -> 8070\n",
      "Arquivo -> 8148\n",
      "Arquivo -> 8961\n",
      "Arquivo -> 9020\n",
      "Arquivo -> 9061\n",
      "Arquivo -> 9094\n",
      "Arquivo -> 9141\n",
      "Arquivo -> 9187\n",
      "Arquivo -> 9284\n",
      "Arquivo -> 9321\n",
      "Arquivo -> 9346\n",
      "Arquivo -> 9374\n",
      "Arquivo -> 9398\n",
      "Arquivo -> 9470\n",
      "Arquivo -> 9568\n",
      "Arquivo -> 9618\n",
      "Arquivo -> 9654\n",
      "Arquivo -> 9702\n",
      "Arquivo -> 9738\n",
      "Arquivo -> 9774\n",
      "Arquivo -> 9819\n",
      "Arquivo -> 9878\n",
      "Arquivo -> 9921\n",
      "Arquivo -> 9991\n",
      "Arquivo -> 10025\n",
      "Arquivo -> 10110\n",
      "Arquivo -> 10141\n",
      "Arquivo -> 10168\n",
      "Arquivo -> 10205\n",
      "Arquivo -> 10239\n",
      "Arquivo -> 10295\n",
      "Arquivo -> 10328\n",
      "Arquivo -> 10362\n",
      "Arquivo -> 10397\n",
      "Arquivo -> 10429\n",
      "Arquivo -> 10510\n",
      "Arquivo -> 10545\n",
      "Arquivo -> 10579\n",
      "Arquivo -> 10612\n",
      "Arquivo -> 10677\n",
      "Arquivo -> 10714\n",
      "Arquivo -> 10753\n",
      "Arquivo -> 10836\n",
      "Arquivo -> 10887\n",
      "Arquivo -> 10917\n",
      "Arquivo -> 10948\n",
      "Arquivo -> 11004\n",
      "Arquivo -> 11087\n",
      "Arquivo -> 11122\n",
      "Arquivo -> 11169\n",
      "Arquivo -> 11232\n",
      "Arquivo -> 11269\n",
      "Arquivo -> 11357\n",
      "Arquivo -> 11390\n",
      "Arquivo -> 11438\n",
      "Arquivo -> 11499\n",
      "Arquivo -> 11545\n",
      "Arquivo -> 11588\n",
      "Arquivo -> 11629\n",
      "Arquivo -> 11725\n",
      "Arquivo -> 11789\n",
      "Arquivo -> 11835\n",
      "Arquivo -> 11835\n",
      "Arquivo -> 11876\n",
      "Arquivo -> 11915\n",
      "Arquivo -> 11958\n",
      "Arquivo -> 12042\n",
      "Arquivo -> 12135\n",
      "Arquivo -> 12172\n",
      "Arquivo -> 12263\n",
      "Arquivo -> 12357\n",
      "Arquivo -> 12413\n",
      "Arquivo -> 12449\n",
      "Arquivo -> 12543\n",
      "Arquivo -> 12573\n",
      "Arquivo -> 12634\n",
      "Arquivo -> 12717\n",
      "Arquivo -> 12769\n",
      "Arquivo -> 12819\n",
      "Arquivo -> 12924\n",
      "Arquivo -> 12983\n",
      "Arquivo -> 13077\n",
      "Arquivo -> 13176\n",
      "Arquivo -> 13209\n",
      "Arquivo -> 13255\n",
      "Arquivo -> 13308\n",
      "Arquivo -> 13399\n",
      "Arquivo -> 13464\n",
      "Arquivo -> 13508\n",
      "Arquivo -> 13591\n",
      "Arquivo -> 13638\n",
      "Arquivo -> 13676\n",
      "Arquivo -> 13713\n",
      "Arquivo -> 13753\n",
      "Arquivo -> 13781\n",
      "Arquivo -> 13842\n",
      "Arquivo -> 13893\n",
      "Arquivo -> 13944\n",
      "Arquivo -> 13972\n",
      "Arquivo -> 14013\n",
      "Arquivo -> 14115\n",
      "Arquivo -> 14172\n",
      "Arquivo -> 14203\n",
      "Arquivo -> 14252\n",
      "Arquivo -> 14294\n",
      "Arquivo -> 14358\n",
      "Arquivo -> 14455\n",
      "Arquivo -> 14490\n",
      "Arquivo -> 14539\n",
      "Arquivo -> 14567\n",
      "Arquivo -> 14615\n",
      "Arquivo -> 14713\n",
      "Arquivo -> 14767\n",
      "Arquivo -> 14831\n",
      "Arquivo -> 14916\n",
      "Arquivo -> 14946\n",
      "Arquivo -> 14972\n",
      "Arquivo -> 15018\n",
      "Arquivo -> 15088\n",
      "Arquivo -> 15127\n",
      "Arquivo -> 15181\n",
      "Arquivo -> 15283\n",
      "Arquivo -> 15390\n",
      "Arquivo -> 15488\n",
      "Arquivo -> 15514\n",
      "Arquivo -> 15556\n",
      "Arquivo -> 15590\n",
      "Arquivo -> 15694\n",
      "Arquivo -> 15799\n",
      "Arquivo -> 15835\n",
      "Arquivo -> 15869\n",
      "Arquivo -> 15907\n",
      "Arquivo -> 15953\n",
      "Arquivo -> 16048\n",
      "Arquivo -> 16104\n",
      "Arquivo -> 16204\n",
      "Arquivo -> 16296\n",
      "Arquivo -> 16321\n",
      "Arquivo -> 16361\n",
      "Arquivo -> 16459\n",
      "Arquivo -> 16519\n",
      "Arquivo -> 16537\n",
      "Arquivo -> 16619\n",
      "Arquivo -> 16721\n",
      "Arquivo -> 16785\n",
      "Arquivo -> 16848\n",
      "Arquivo -> 16887\n",
      "Arquivo -> 16907\n",
      "Arquivo -> 16996\n",
      "Arquivo -> 17075\n",
      "Arquivo -> 17165\n",
      "Arquivo -> 17193\n",
      "Arquivo -> 17236\n",
      "Arquivo -> 17273\n",
      "Arquivo -> 17374\n",
      "Arquivo -> 17449\n",
      "Arquivo -> 17484\n",
      "Arquivo -> 17546\n",
      "Arquivo -> 17647\n",
      "Arquivo -> 17691\n",
      "Arquivo -> 17723\n",
      "Arquivo -> 17761\n",
      "Arquivo -> 17816\n",
      "Arquivo -> 17915\n",
      "Arquivo -> 17941\n",
      "Arquivo -> 17975\n",
      "Arquivo -> 18027\n",
      "Arquivo -> 18074\n",
      "Arquivo -> 18151\n",
      "Arquivo -> 18199\n",
      "Arquivo -> 18251\n",
      "Arquivo -> 18273\n",
      "Arquivo -> 18315\n",
      "Arquivo -> 18362\n",
      "Arquivo -> 18407\n",
      "Arquivo -> 18440\n",
      "Arquivo -> 18485\n",
      "Arquivo -> 18534\n",
      "Arquivo -> 18585\n",
      "Arquivo -> 18624\n",
      "Arquivo -> 18668\n",
      "Arquivo -> 18673\n",
      "Arquivo -> 18711\n",
      "Arquivo -> 18750\n",
      "Arquivo -> 18792\n",
      "Arquivo -> 18835\n",
      "Arquivo -> 18867\n",
      "Arquivo -> 18910\n",
      "Arquivo -> 18962\n",
      "Arquivo -> 19030\n",
      "Arquivo -> 19055\n",
      "Arquivo -> 19100\n",
      "Arquivo -> 19141\n",
      "Arquivo -> 19192\n",
      "Arquivo -> 19228\n",
      "Arquivo -> 19271\n",
      "Arquivo -> 19325\n",
      "Arquivo -> 19423\n",
      "Arquivo -> 19456\n",
      "Arquivo -> 19514\n",
      "Arquivo -> 19619\n",
      "Arquivo -> 19657\n",
      "Arquivo -> 19687\n",
      "Arquivo -> 19724\n",
      "Arquivo -> 19822\n",
      "Arquivo -> 19858\n",
      "Arquivo -> 19905\n",
      "Arquivo -> 19937\n",
      "Arquivo -> 19979\n",
      "Arquivo -> 20008\n",
      "Arquivo -> 20043\n",
      "Arquivo -> 20146\n",
      "Arquivo -> 20244\n",
      "Arquivo -> 20312\n",
      "Arquivo -> 20357\n",
      "Arquivo -> 20404\n",
      "Arquivo -> 20511\n",
      "Arquivo -> 20613\n",
      "Arquivo -> 20662\n",
      "Arquivo -> 20704\n",
      "Arquivo -> 20723\n",
      "Arquivo -> 20759\n",
      "Arquivo -> 20817\n",
      "Arquivo -> 20869\n",
      "Arquivo -> 20900\n",
      "Arquivo -> 20937\n",
      "Arquivo -> 20967\n",
      "Arquivo -> 21007\n",
      "Arquivo -> 21050\n",
      "Arquivo -> 21125\n",
      "Arquivo -> 21157\n",
      "Arquivo -> 21198\n",
      "Arquivo -> 21240\n",
      "Arquivo -> 21299\n",
      "Arquivo -> 21353\n",
      "Arquivo -> 21395\n",
      "Arquivo -> 21448\n",
      "Arquivo -> 21552\n",
      "Arquivo -> 21580\n",
      "Arquivo -> 21619\n",
      "Arquivo -> 21651\n",
      "Arquivo -> 21709\n",
      "Arquivo -> 21809\n",
      "Arquivo -> 21838\n",
      "Arquivo -> 21894\n",
      "Arquivo -> 21923\n",
      "Arquivo -> 21949\n",
      "Arquivo -> 22025\n",
      "Arquivo -> 22052\n",
      "Arquivo -> 22094\n",
      "Arquivo -> 22119\n",
      "Arquivo -> 22180\n",
      "Arquivo -> 22256\n",
      "Arquivo -> 22294\n",
      "Arquivo -> 22377\n",
      "Arquivo -> 22484\n",
      "Arquivo -> 22506\n",
      "Arquivo -> 22547\n",
      "Arquivo -> 22584\n",
      "Arquivo -> 22618\n",
      "Arquivo -> 22643\n",
      "Arquivo -> 22705\n",
      "Arquivo -> 22752\n",
      "Arquivo -> 22779\n",
      "Arquivo -> 22803\n",
      "Arquivo -> 22906\n",
      "Arquivo -> 22938\n",
      "Arquivo -> 22970\n",
      "Arquivo -> 23010\n",
      "Arquivo -> 23042\n",
      "Arquivo -> 23098\n",
      "Arquivo -> 23154\n",
      "Arquivo -> 23189\n",
      "Arquivo -> 23227\n",
      "Arquivo -> 23270\n",
      "Arquivo -> 23609\n",
      "Arquivo -> 23652\n",
      "Arquivo -> 23697\n",
      "Arquivo -> 23745\n",
      "Arquivo -> 24074\n",
      "Arquivo -> 24173\n",
      "Arquivo -> 24216\n",
      "Arquivo -> 24246\n",
      "Arquivo -> 24285\n",
      "Arquivo -> 24325\n",
      "Arquivo -> 24424\n",
      "Arquivo -> 24732\n",
      "Arquivo -> 24762\n",
      "Arquivo -> 24799\n",
      "Arquivo -> 24851\n",
      "Arquivo -> 25168\n",
      "Arquivo -> 25217\n",
      "Arquivo -> 25311\n",
      "Arquivo -> 25355\n",
      "Arquivo -> 25375\n",
      "Arquivo -> 25479\n",
      "Arquivo -> 25837\n",
      "Arquivo -> 25888\n",
      "Arquivo -> 25939\n",
      "Arquivo -> 26314\n",
      "Arquivo -> 26420\n",
      "Arquivo -> 26466\n",
      "Arquivo -> 26507\n",
      "Arquivo -> 26548\n",
      "Arquivo -> 26592\n",
      "Arquivo -> 26630\n",
      "Arquivo -> 26654\n",
      "Arquivo -> 26717\n",
      "Arquivo -> 26767\n",
      "Arquivo -> 26836\n",
      "Arquivo -> 26858\n",
      "Arquivo -> 26900\n",
      "Arquivo -> 26950\n",
      "Arquivo -> 26979\n",
      "Arquivo -> 27014\n",
      "Arquivo -> 27044\n",
      "Arquivo -> 27075\n",
      "Arquivo -> 27113\n",
      "Arquivo -> 27155\n",
      "Arquivo -> 27259\n",
      "Arquivo -> 27299\n",
      "Arquivo -> 27359\n",
      "Arquivo -> 27460\n",
      "Arquivo -> 27547\n",
      "Arquivo -> 27588\n",
      "Arquivo -> 27620\n",
      "Arquivo -> 27667\n",
      "Arquivo -> 27716\n",
      "Arquivo -> 27792\n",
      "Arquivo -> 27861\n",
      "Arquivo -> 27892\n",
      "Arquivo -> 27994\n",
      "Arquivo -> 28040\n",
      "Arquivo -> 28092\n",
      "Arquivo -> 28127\n",
      "Arquivo -> 28172\n",
      "Arquivo -> 28211\n",
      "Arquivo -> 28251\n",
      "Arquivo -> 28296\n",
      "Arquivo -> 28338\n",
      "Arquivo -> 28437\n",
      "Arquivo -> 28844\n",
      "Arquivo -> 28875\n",
      "Arquivo -> 28917\n",
      "Arquivo -> 28956\n",
      "Arquivo -> 29335\n",
      "Arquivo -> 29381\n",
      "Arquivo -> 29418\n",
      "Arquivo -> 29460\n",
      "Arquivo -> 29755\n",
      "Arquivo -> 29856\n",
      "Arquivo -> 29942\n",
      "Arquivo -> 29974\n",
      "Arquivo -> 30012\n",
      "Arquivo -> 30324\n",
      "Arquivo -> 30421\n",
      "Arquivo -> 30459\n",
      "Arquivo -> 30515\n",
      "Arquivo -> 30555\n",
      "Arquivo -> 30605\n",
      "Arquivo -> 31014\n",
      "Arquivo -> 31052\n",
      "Arquivo -> 31107\n",
      "Arquivo -> 31144\n",
      "Arquivo -> 31251\n",
      "Arquivo -> 31632\n",
      "Arquivo -> 31665\n",
      "Arquivo -> 31688\n",
      "Arquivo -> 31733\n",
      "Arquivo -> 31788\n",
      "Arquivo -> 31845\n",
      "Arquivo -> 31902\n",
      "Arquivo -> 31937\n",
      "Arquivo -> 31969\n",
      "Arquivo -> 32034\n",
      "Arquivo -> 32054\n",
      "Arquivo -> 32094\n",
      "Arquivo -> 32129\n",
      "Arquivo -> 32176\n",
      "Arquivo -> 32221\n",
      "Arquivo -> 32247\n",
      "Arquivo -> 32290\n",
      "Arquivo -> 32325\n",
      "Arquivo -> 32372\n",
      "Arquivo -> 32398\n",
      "Arquivo -> 32459\n",
      "Arquivo -> 32506\n",
      "Arquivo -> 32609\n",
      "Arquivo -> 32662\n",
      "Arquivo -> 32691\n",
      "Arquivo -> 32706\n",
      "Arquivo -> 32722\n",
      "Arquivo -> 32753\n",
      "Arquivo -> 32776\n",
      "Arquivo -> 32811\n",
      "Arquivo -> 32859\n",
      "Arquivo -> 32935\n",
      "Arquivo -> 32963\n",
      "Arquivo -> 33011\n",
      "Arquivo -> 33051\n",
      "Arquivo -> 33091\n",
      "Arquivo -> 33451\n",
      "Arquivo -> 33550\n"
     ]
    },
    {
     "name": "stdout",
     "output_type": "stream",
     "text": [
      "Arquivo -> 33646\n",
      "Arquivo -> 33704\n",
      "Arquivo -> 33746\n",
      "Arquivo -> 33805\n",
      "Arquivo -> 33897\n",
      "Arquivo -> 34625\n",
      "Arquivo -> 34676\n",
      "Arquivo -> 34710\n",
      "Arquivo -> 34738\n",
      "Arquivo -> 34773\n",
      "Arquivo -> 35126\n",
      "Arquivo -> 35179\n",
      "Arquivo -> 35215\n",
      "Arquivo -> 35265\n",
      "Arquivo -> 35364\n",
      "Arquivo -> 35796\n",
      "Arquivo -> 35865\n",
      "Arquivo -> 35907\n",
      "Arquivo -> 36360\n",
      "Arquivo -> 36462\n",
      "Arquivo -> 36495\n",
      "Arquivo -> 36540\n",
      "Arquivo -> 36584\n",
      "Arquivo -> 36633\n",
      "Arquivo -> 36685\n",
      "Arquivo -> 36707\n",
      "Arquivo -> 36774\n",
      "Arquivo -> 36807\n",
      "Arquivo -> 36888\n",
      "Arquivo -> 36969\n",
      "Arquivo -> 36984\n",
      "Arquivo -> 37014\n",
      "Arquivo -> 37094\n",
      "Arquivo -> 37152\n",
      "Arquivo -> 37190\n",
      "Arquivo -> 37214\n",
      "Arquivo -> 37230\n",
      "Arquivo -> 37334\n",
      "Arquivo -> 37414\n",
      "Arquivo -> 37448\n",
      "Arquivo -> 37502\n",
      "Arquivo -> 37542\n",
      "Arquivo -> 37578\n",
      "Arquivo -> 37613\n",
      "Arquivo -> 37652\n",
      "Arquivo -> 37685\n",
      "Arquivo -> 37755\n",
      "Arquivo -> 37804\n",
      "Arquivo -> 37853\n",
      "Arquivo -> 37899\n",
      "Arquivo -> 37949\n",
      "Arquivo -> 37984\n",
      "Arquivo -> 38023\n",
      "Arquivo -> 38050\n",
      "Arquivo -> 38077\n",
      "Arquivo -> 38128\n",
      "Arquivo -> 38169\n",
      "Arquivo -> 38207\n",
      "Arquivo -> 38262\n",
      "Arquivo -> 38367\n",
      "Arquivo -> 38781\n",
      "Arquivo -> 38819\n",
      "Arquivo -> 38860\n",
      "Arquivo -> 38922\n",
      "Arquivo -> 38977\n",
      "Arquivo -> 39011\n",
      "Arquivo -> 39049\n",
      "Arquivo -> 39604\n",
      "Arquivo -> 39703\n",
      "Arquivo -> 39753\n",
      "Arquivo -> 39849\n",
      "Arquivo -> 39884\n",
      "Arquivo -> 40377\n",
      "Arquivo -> 40435\n",
      "Arquivo -> 40469\n",
      "Arquivo -> 40499\n",
      "Arquivo -> 40527\n",
      "Arquivo -> 40890\n",
      "Arquivo -> 40917\n",
      "Arquivo -> 40955\n",
      "Arquivo -> 41049\n",
      "Arquivo -> 41092\n",
      "Arquivo -> 41111\n",
      "Arquivo -> 41210\n",
      "Arquivo -> 41702\n",
      "Arquivo -> 41741\n",
      "Arquivo -> 41788\n",
      "Arquivo -> 41813\n",
      "Arquivo -> 41853\n",
      "Arquivo -> 41954\n",
      "Arquivo -> 41985\n",
      "Arquivo -> 42045\n",
      "Arquivo -> 42120\n",
      "Arquivo -> 42148\n",
      "Arquivo -> 42244\n",
      "Arquivo -> 42350\n",
      "Arquivo -> 42392\n",
      "Arquivo -> 42444\n",
      "Arquivo -> 42540\n",
      "Arquivo -> 42628\n",
      "Arquivo -> 42718\n",
      "Arquivo -> 42757\n",
      "Arquivo -> 42863\n",
      "Arquivo -> 42907\n",
      "Arquivo -> 42954\n",
      "Arquivo -> 42999\n",
      "Arquivo -> 43092\n",
      "Arquivo -> 43182\n",
      "Arquivo -> 43278\n",
      "Arquivo -> 43293\n",
      "Arquivo -> 43335\n",
      "Arquivo -> 43400\n",
      "Arquivo -> 43494\n",
      "Arquivo -> 43545\n",
      "Arquivo -> 43559\n",
      "Arquivo -> 43636\n",
      "Arquivo -> 43694\n",
      "Arquivo -> 43789\n",
      "Arquivo -> 43819\n",
      "Arquivo -> 43851\n",
      "Arquivo -> 43916\n",
      "Arquivo -> 43940\n",
      "Arquivo -> 43995\n",
      "Arquivo -> 44032\n",
      "Arquivo -> 44108\n",
      "Arquivo -> 44162\n",
      "Arquivo -> 44219\n",
      "Arquivo -> 44262\n",
      "Arquivo -> 44302\n",
      "Arquivo -> 44401\n",
      "Arquivo -> 44433\n",
      "Arquivo -> 44461\n",
      "Arquivo -> 44505\n",
      "Arquivo -> 44552\n",
      "Arquivo -> 44597\n",
      "Arquivo -> 44685\n",
      "Arquivo -> 44787\n",
      "Arquivo -> 44880\n",
      "Arquivo -> 44978\n",
      "Arquivo -> 45018\n",
      "Arquivo -> 45042\n",
      "Arquivo -> 45142\n",
      "Arquivo -> 45195\n",
      "Arquivo -> 45228\n",
      "Arquivo -> 45329\n",
      "Arquivo -> 45425\n",
      "Arquivo -> 45471\n",
      "Arquivo -> 45499\n",
      "Arquivo -> 45549\n",
      "Arquivo -> 45648\n",
      "Arquivo -> 45677\n",
      "Arquivo -> 45726\n",
      "Arquivo -> 45778\n",
      "Arquivo -> 45867\n",
      "Arquivo -> 45970\n",
      "Arquivo -> 46074\n",
      "Arquivo -> 46114\n",
      "Arquivo -> 46168\n",
      "Arquivo -> 46176\n",
      "Arquivo -> 46273\n",
      "Arquivo -> 46320\n",
      "Arquivo -> 46337\n",
      "Arquivo -> 46381\n",
      "Arquivo -> 46414\n",
      "Arquivo -> 46446\n",
      "Arquivo -> 46466\n",
      "Arquivo -> 46552\n",
      "Arquivo -> 46603\n",
      "Arquivo -> 46642\n",
      "Arquivo -> 46674\n",
      "Arquivo -> 46723\n",
      "Arquivo -> 46818\n",
      "Arquivo -> 46859\n",
      "Arquivo -> 46922\n",
      "Arquivo -> 46983\n",
      "Arquivo -> 47023\n",
      "Arquivo -> 47068\n",
      "Arquivo -> 47166\n",
      "Arquivo -> 47200\n",
      "Arquivo -> 47242\n",
      "Arquivo -> 47268\n",
      "Arquivo -> 47306\n",
      "Arquivo -> 47366\n",
      "Arquivo -> 47467\n",
      "Arquivo -> 47498\n",
      "Arquivo -> 47540\n",
      "Arquivo -> 47642\n",
      "Arquivo -> 47700\n",
      "Arquivo -> 47743\n",
      "Arquivo -> 47778\n",
      "Arquivo -> 47820\n",
      "Arquivo -> 47900\n",
      "Arquivo -> 47960\n",
      "Arquivo -> 48000\n",
      "Arquivo -> 48046\n",
      "Arquivo -> 48085\n",
      "Arquivo -> 48137\n",
      "Arquivo -> 48230\n",
      "Arquivo -> 48277\n",
      "Arquivo -> 48314\n",
      "Arquivo -> 48369\n",
      "Arquivo -> 48426\n",
      "Arquivo -> 48457\n",
      "Arquivo -> 48484\n",
      "Arquivo -> 48527\n",
      "Arquivo -> 48565\n",
      "Arquivo -> 48612\n",
      "Arquivo -> 48643\n",
      "Arquivo -> 48684\n",
      "Arquivo -> 48725\n",
      "Arquivo -> 48814\n",
      "Arquivo -> 48885\n",
      "Arquivo -> 48931\n",
      "Arquivo -> 48981\n",
      "Arquivo -> 49013\n",
      "Arquivo -> 49115\n",
      "Arquivo -> 49182\n",
      "Arquivo -> 49280\n",
      "Arquivo -> 49327\n",
      "Arquivo -> 49378\n",
      "Arquivo -> 49412\n",
      "Arquivo -> 49458\n",
      "Arquivo -> 49499\n",
      "Arquivo -> 49603\n",
      "Arquivo -> 49659\n",
      "Arquivo -> 49696\n",
      "Arquivo -> 49749\n",
      "Arquivo -> 49853\n",
      "Arquivo -> 49910\n",
      "Arquivo -> 50010\n",
      "Arquivo -> 50036\n",
      "Arquivo -> 50107\n",
      "Arquivo -> 50148\n",
      "Arquivo -> 50186\n",
      "Arquivo -> 50228\n",
      "Arquivo -> 50320\n",
      "Arquivo -> 50398\n",
      "Arquivo -> 50439\n",
      "Arquivo -> 50490\n",
      "Arquivo -> 50526\n",
      "Arquivo -> 50594\n",
      "Arquivo -> 50683\n",
      "Arquivo -> 50727\n",
      "Arquivo -> 50772\n",
      "Arquivo -> 50862\n",
      "Arquivo -> 50912\n",
      "Arquivo -> 50976\n",
      "Arquivo -> 51023\n",
      "Arquivo -> 51042\n",
      "Arquivo -> 51087\n",
      "Arquivo -> 51144\n",
      "Arquivo -> 51244\n",
      "Arquivo -> 51293\n",
      "Arquivo -> 51343\n",
      "Arquivo -> 51392\n",
      "Arquivo -> 51461\n",
      "Arquivo -> 51509\n",
      "Arquivo -> 51549\n",
      "Arquivo -> 51614\n",
      "Arquivo -> 51666\n",
      "Arquivo -> 51714\n",
      "Arquivo -> 51763\n",
      "Arquivo -> 51802\n",
      "Arquivo -> 51849\n",
      "Arquivo -> 51894\n",
      "Arquivo -> 51929\n",
      "Arquivo -> 52011\n",
      "Arquivo -> 52110\n",
      "Arquivo -> 52176\n",
      "Arquivo -> 52283\n",
      "Arquivo -> 52322\n",
      "Arquivo -> 52373\n",
      "Arquivo -> 52424\n",
      "Arquivo -> 52510\n",
      "Arquivo -> 52548\n",
      "Arquivo -> 52609\n",
      "Arquivo -> 52645\n",
      "Arquivo -> 52683\n",
      "Arquivo -> 52778\n",
      "Arquivo -> 52816\n",
      "Arquivo -> 52869\n",
      "Arquivo -> 52917\n",
      "Arquivo -> 52944\n",
      "Arquivo -> 53011\n",
      "Arquivo -> 53052\n",
      "Arquivo -> 53113\n",
      "Arquivo -> 53218\n",
      "Arquivo -> 53261\n",
      "Arquivo -> 53319\n",
      "Arquivo -> 53379\n",
      "Arquivo -> 53737\n",
      "Arquivo -> 53833\n",
      "Arquivo -> 53888\n",
      "Arquivo -> 53930\n",
      "Arquivo -> 53975\n",
      "Arquivo -> 54035\n",
      "Arquivo -> 54134\n",
      "Arquivo -> 54180\n",
      "Arquivo -> 54220\n",
      "Arquivo -> 54321\n",
      "Arquivo -> 54670\n",
      "Arquivo -> 54701\n",
      "Arquivo -> 54744\n",
      "Arquivo -> 54794\n",
      "Arquivo -> 54863\n",
      "Arquivo -> 54964\n",
      "Arquivo -> 55350\n",
      "Arquivo -> 55387\n",
      "Arquivo -> 55437\n",
      "Arquivo -> 55481\n",
      "Arquivo -> 55585\n",
      "Arquivo -> 55619\n",
      "Arquivo -> 55708\n",
      "Arquivo -> 55742\n",
      "Arquivo -> 55788\n",
      "Arquivo -> 56208\n",
      "Arquivo -> 56254\n",
      "Arquivo -> 56355\n",
      "Arquivo -> 56414\n",
      "Arquivo -> 56454\n",
      "Arquivo -> 56491\n",
      "Arquivo -> 56591\n",
      "Arquivo -> 56675\n",
      "Arquivo -> 56707\n",
      "Arquivo -> 56736\n",
      "Arquivo -> 56768\n",
      "Arquivo -> 56799\n",
      "Arquivo -> 56882\n",
      "Arquivo -> 56980\n",
      "Arquivo -> 57017\n",
      "Arquivo -> 57052\n",
      "Arquivo -> 57126\n",
      "Arquivo -> 57150\n",
      "Arquivo -> 57188\n",
      "Arquivo -> 57208\n",
      "Arquivo -> 57249\n",
      "Arquivo -> 57292\n",
      "Arquivo -> 57328\n",
      "Arquivo -> 57359\n",
      "Arquivo -> 57391\n",
      "Arquivo -> 57440\n",
      "Arquivo -> 57488\n",
      "Arquivo -> 57528\n",
      "Arquivo -> 57577\n",
      "Arquivo -> 57619\n",
      "Arquivo -> 57675\n",
      "Arquivo -> 57724\n",
      "Arquivo -> 57759\n",
      "Arquivo -> 57790\n",
      "Arquivo -> 57867\n",
      "Arquivo -> 57897\n",
      "Arquivo -> 58000\n",
      "Arquivo -> 58042\n",
      "Arquivo -> 58100\n",
      "Arquivo -> 58172\n",
      "Arquivo -> 58212\n",
      "Arquivo -> 58526\n",
      "Arquivo -> 58620\n",
      "Arquivo -> 58656\n",
      "Arquivo -> 58691\n",
      "Arquivo -> 58731\n",
      "Arquivo -> 59135\n",
      "Arquivo -> 59235\n",
      "Arquivo -> 59265\n",
      "Arquivo -> 59313\n",
      "Arquivo -> 59410\n",
      "Arquivo -> 59464\n",
      "Arquivo -> 59507\n",
      "Arquivo -> 59554\n",
      "Arquivo -> 59596\n",
      "Arquivo -> 59631\n",
      "Arquivo -> 59668\n",
      "Arquivo -> 60029\n",
      "Arquivo -> 60130\n",
      "Arquivo -> 60163\n",
      "Arquivo -> 60221\n",
      "Arquivo -> 60318\n",
      "Arquivo -> 60585\n",
      "Arquivo -> 60633\n",
      "Arquivo -> 60666\n",
      "Arquivo -> 60707\n",
      "Arquivo -> 60758\n",
      "Arquivo -> 60811\n",
      "Arquivo -> 60851\n",
      "Arquivo -> 60900\n",
      "Arquivo -> 60945\n",
      "Arquivo -> 61013\n",
      "Arquivo -> 61046\n",
      "Arquivo -> 61093\n",
      "Arquivo -> 61137\n",
      "Arquivo -> 61163\n",
      "Arquivo -> 61197\n",
      "Arquivo -> 61253\n",
      "Arquivo -> 61302\n",
      "Arquivo -> 61340\n",
      "Arquivo -> 61385\n",
      "Arquivo -> 61463\n",
      "Arquivo -> 61529\n",
      "Arquivo -> 61592\n",
      "Arquivo -> 61633\n",
      "Arquivo -> 61663\n",
      "Arquivo -> 61696\n",
      "Arquivo -> 61731\n",
      "Arquivo -> 61770\n",
      "Arquivo -> 61795\n",
      "Arquivo -> 61834\n",
      "Arquivo -> 61887\n",
      "Arquivo -> 61947\n",
      "Arquivo -> 62024\n",
      "Arquivo -> 62050\n",
      "Arquivo -> 62077\n",
      "Arquivo -> 62098\n"
     ]
    },
    {
     "ename": "AttributeError",
     "evalue": "'HTMLIndexer' object has no attribute 'dic_index'",
     "output_type": "error",
     "traceback": [
      "\u001b[0;31m---------------------------------------------------------------------------\u001b[0m",
      "\u001b[0;31mAttributeError\u001b[0m                            Traceback (most recent call last)",
      "\u001b[0;32m<ipython-input-2-f96e5f69ff64>\u001b[0m in \u001b[0;36m<module>\u001b[0;34m\u001b[0m\n\u001b[1;32m      6\u001b[0m \u001b[0mhtml_indexer\u001b[0m \u001b[0;34m=\u001b[0m \u001b[0mHTMLIndexer\u001b[0m\u001b[0;34m(\u001b[0m\u001b[0mobj_index\u001b[0m\u001b[0;34m)\u001b[0m\u001b[0;34m\u001b[0m\u001b[0;34m\u001b[0m\u001b[0m\n\u001b[1;32m      7\u001b[0m \u001b[0mtracemalloc\u001b[0m\u001b[0;34m.\u001b[0m\u001b[0mstart\u001b[0m\u001b[0;34m(\u001b[0m\u001b[0;34m)\u001b[0m\u001b[0;34m\u001b[0m\u001b[0;34m\u001b[0m\u001b[0m\n\u001b[0;32m----> 8\u001b[0;31m \u001b[0mhtml_indexer\u001b[0m\u001b[0;34m.\u001b[0m\u001b[0mindex_text_dir\u001b[0m\u001b[0;34m(\u001b[0m\u001b[0;34m\"index/wiki/wikiSample\"\u001b[0m\u001b[0;34m)\u001b[0m\u001b[0;34m\u001b[0m\u001b[0;34m\u001b[0m\u001b[0m\n\u001b[0m\u001b[1;32m      9\u001b[0m \u001b[0mcurrent\u001b[0m\u001b[0;34m,\u001b[0m \u001b[0mpeak\u001b[0m \u001b[0;34m=\u001b[0m \u001b[0mtracemalloc\u001b[0m\u001b[0;34m.\u001b[0m\u001b[0mget_traced_memory\u001b[0m\u001b[0;34m(\u001b[0m\u001b[0;34m)\u001b[0m\u001b[0;34m\u001b[0m\u001b[0;34m\u001b[0m\u001b[0m\n\u001b[1;32m     10\u001b[0m \u001b[0mtime_end\u001b[0m \u001b[0;34m=\u001b[0m \u001b[0mdatetime\u001b[0m\u001b[0;34m.\u001b[0m\u001b[0mnow\u001b[0m\u001b[0;34m(\u001b[0m\u001b[0;34m)\u001b[0m\u001b[0;34m\u001b[0m\u001b[0;34m\u001b[0m\u001b[0m\n",
      "\u001b[0;32m~/www/recuperacao-da-informacao/exercises/indexador/index/indexer.py\u001b[0m in \u001b[0;36mindex_text_dir\u001b[0;34m(self, path)\u001b[0m\n\u001b[1;32m    118\u001b[0m                     \u001b[0mcount\u001b[0m \u001b[0;34m+=\u001b[0m \u001b[0;36m1\u001b[0m\u001b[0;34m\u001b[0m\u001b[0;34m\u001b[0m\u001b[0m\n\u001b[1;32m    119\u001b[0m         \u001b[0;32mwith\u001b[0m \u001b[0mopen\u001b[0m\u001b[0;34m(\u001b[0m\u001b[0;34m\"vocabulary.txt\"\u001b[0m\u001b[0;34m,\u001b[0m \u001b[0;34m\"a\"\u001b[0m\u001b[0;34m,\u001b[0m \u001b[0mencoding\u001b[0m\u001b[0;34m=\u001b[0m\u001b[0;34m\"utf-8\"\u001b[0m\u001b[0;34m)\u001b[0m \u001b[0;32mas\u001b[0m \u001b[0mvocabulary_term\u001b[0m\u001b[0;34m:\u001b[0m\u001b[0;34m\u001b[0m\u001b[0;34m\u001b[0m\u001b[0m\n\u001b[0;32m--> 120\u001b[0;31m             \u001b[0;32mfor\u001b[0m \u001b[0mstr_term\u001b[0m\u001b[0;34m,\u001b[0m \u001b[0mobj_term\u001b[0m \u001b[0;32min\u001b[0m \u001b[0mself\u001b[0m\u001b[0;34m.\u001b[0m\u001b[0mdic_index\u001b[0m\u001b[0;34m.\u001b[0m\u001b[0mitems\u001b[0m\u001b[0;34m(\u001b[0m\u001b[0;34m)\u001b[0m\u001b[0;34m:\u001b[0m\u001b[0;34m\u001b[0m\u001b[0;34m\u001b[0m\u001b[0m\n\u001b[0m\u001b[1;32m    121\u001b[0m                 \u001b[0mvocabulary_term\u001b[0m\u001b[0;34m.\u001b[0m\u001b[0mwrite\u001b[0m\u001b[0;34m(\u001b[0m\u001b[0;34mf\"Termo: {str_term} term_id: {obj_term.term_id}\\n\"\u001b[0m\u001b[0;34m)\u001b[0m\u001b[0;34m\u001b[0m\u001b[0;34m\u001b[0m\u001b[0m\n\u001b[1;32m    122\u001b[0m         \u001b[0mself\u001b[0m\u001b[0;34m.\u001b[0m\u001b[0mindex\u001b[0m\u001b[0;34m.\u001b[0m\u001b[0mfinish_indexing\u001b[0m\u001b[0;34m(\u001b[0m\u001b[0;34m)\u001b[0m\u001b[0;34m\u001b[0m\u001b[0;34m\u001b[0m\u001b[0m\n",
      "\u001b[0;31mAttributeError\u001b[0m: 'HTMLIndexer' object has no attribute 'dic_index'"
     ]
    }
   ],
   "source": [
    "from index.indexer import *\n",
    "from index.structure import *\n",
    "import tracemalloc\n",
    "time_first = datetime.now()\n",
    "obj_index = FileIndex()\n",
    "html_indexer = HTMLIndexer(obj_index)\n",
    "tracemalloc.start()\n",
    "html_indexer.index_text_dir(\"index/wiki/wikiSample\")\n",
    "current, peak = tracemalloc.get_traced_memory()            \n",
    "time_end = datetime.now()\n",
    "tempo_gasto = time_end-time_first \n",
    "print(f\"Memoria usada: {current / 10**6:,} MB; Máximo {peak / 10**6:,} MB\")\n",
    "print(f\"Finalizado:{tempo_gasto.total_seconds()}\")"
   ]
  },
  {
   "cell_type": "code",
   "execution_count": 2,
   "metadata": {},
   "outputs": [
    {
     "name": "stdout",
     "output_type": "stream",
     "text": [
      "Qtd arquivos: 62128 Soma total: 14337.998765999993 media:0.23078159229332978 segundos\n"
     ]
    }
   ],
   "source": [
    "a = 0\n",
    "soma = 0\n",
    "with open(\"times.txt\",\"r\",encoding=\"utf-8\") as file:\n",
    "    for line in file.readlines():\n",
    "        a+=1\n",
    "        soma+=  float(line.split(\":\")[1])\n",
    "\n",
    "    print(f\"Qtd arquivos: {a} Soma total: {soma} media:{(soma/a)} segundos\")"
   ]
  },
  {
   "cell_type": "code",
   "execution_count": null,
   "metadata": {
    "scrolled": false
   },
   "outputs": [],
   "source": [
    "#Recuperando o indice\n",
    "from index.indexer import *\n",
    "from index.structure \n",
    "import *\n",
    "import pickle\n",
    "with open(\"occur_index.idx\",\"rb\") as idx_file:\n",
    "    obj_index = FileIndex()\n",
    "    t = obj_index.next_from_file(idx_file)\n",
    "    while t != None:\n",
    "        print(t)\n",
    "        t = obj_index.next_from_file(idx_file)"
   ]
  },
  {
   "cell_type": "code",
   "execution_count": null,
   "metadata": {},
   "outputs": [],
   "source": []
  }
 ],
 "metadata": {
  "kernelspec": {
   "display_name": "Python 3",
   "language": "python",
   "name": "python3"
  },
  "language_info": {
   "codemirror_mode": {
    "name": "ipython",
    "version": 3
   },
   "file_extension": ".py",
   "mimetype": "text/x-python",
   "name": "python",
   "nbconvert_exporter": "python",
   "pygments_lexer": "ipython3",
   "version": "3.9.4"
  }
 },
 "nbformat": 4,
 "nbformat_minor": 2
}
