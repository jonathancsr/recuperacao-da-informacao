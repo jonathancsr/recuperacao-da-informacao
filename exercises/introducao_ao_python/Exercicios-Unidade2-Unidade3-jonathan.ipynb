{
 "cells": [
  {
   "cell_type": "markdown",
   "metadata": {},
   "source": [
    "# Unidade 2"
   ]
  },
  {
   "attachments": {
    "Screenshot%20from%202021-03-10%2011-52-08.png": {
     "image/png": "[encoded data removed]"
    }
   },
   "cell_type": "markdown",
   "metadata": {},
   "source": [
    "### Exercício 8: Rede Social \n",
    "Você irá fazer uma rede social por meio de um vetor de pessoas *pessoas* e matriz *amizades*, similar ao apresentado abaixo:\n",
    "\n",
    "em que, na matriz *amizades*, cada linha e coluna correspondem a pessoas que podem manter uma relação de amizade entre si. Além disso, a pessoas da i-ésima linha (e coluna!) corresponde a mesma pessoa na posição i no vetor *pessoas*. Exemplo, a pessoa na linha 0 (e coluna 0) é *Alice*, da mesma forma, a pessoa na linha e coluna 2 é a *Carol*.\n",
    "\n",
    "Nesta matriz o valor é 1 caso uma pessoa, representada na linha, e amiga da pessoa representada pela coluna. Por exemplo, *Alice* é amiga apenas de *Danielle* (veja a linha 0). Nesta rede social (assim como na vida 💁) pode ocorrer falta de reciprocidade entre as amizades, por exemplo: *Bob* é amigo de *Alice* mas *Alice* não é amiga de *Bob*.\n",
    "\n",
    "Aqui vai duas funções que você deverá fazer e testá-las por meio da matriz e vetor:\n",
    "\n",
    "- `exibe_amigos`: por meio do vetor *pessoas*, matriz *amizades* e o nome de uma pessoa, exibe o amigos desta pessoa. Você deverá armazenar esta lista de amigos em um vetor e retorná-lo.\n",
    "\n",
    "- `exibe_amigos_em_comum`: por meio do vetor *pessoas*, da matriz *amizades* e do nome de uma pessoa X e uma pessoa Y, exibe os amigos em comum entre essas duas pessoas. Você deverá armazenar essa lista de amigos em comum em um vetor e retorná-lo.\n",
    "\n",
    "Lembre-se de imprimir todas as saídas de forma que fique claro de qual entrada ela representa. A função *obtem_posicao_elemento* (exercício 3) poderá ajudar, porém *CHAME-A* e *não implemente novamente*.\n"
   ]
  },
  {
   "cell_type": "code",
   "execution_count": 1,
   "metadata": {},
   "outputs": [],
   "source": [
    "def show_friends(people, friends, person_name):\n",
    "    indexPerson = people.index(person_name)\n",
    "    friendships = []\n",
    "    for i in range(len(people)):\n",
    "      if friends[indexPerson][i] == 1:\n",
    "        friendships.append(people[i])\n",
    "    return friendships\n",
    "\n",
    "def show_mutual_friends(people, friends, person_name_1, person_name_2):\n",
    "    friends_person_1 = show_friends(people, friends,person_name_1)\n",
    "    friends_person_2 = show_friends(people, friends,person_name_2)\n",
    "    mutual_friends = []\n",
    "    \n",
    "    for friend in friends_person_1:\n",
    "        if friend in friends_person_2:\n",
    "          mutual_friends.append(friend)\n",
    "    \n",
    "    return mutual_friends\n"
   ]
  },
  {
   "cell_type": "markdown",
   "metadata": {},
   "source": [
    "### Testes"
   ]
  },
  {
   "cell_type": "code",
   "execution_count": 2,
   "metadata": {},
   "outputs": [
    {
     "name": "stdout",
     "output_type": "stream",
     "text": [
      "Bob's friends: ['Alice', 'Carol', 'Mary', 'Bernardo']\n",
      "Mary's friends: ['Alice', 'Carol', 'Bernardo']\n",
      "Bernardo's friends: ['Carol', 'João']\n",
      "---------------------Mutual Fiends -----------------------\n",
      "Bob and João mutual friends: ['Alice', 'Mary']\n",
      "Alice and Bernardo mutual friends: ['João']\n",
      "Carol and Alice mutual friends: ['Bob', 'João']\n"
     ]
    }
   ],
   "source": [
    "people = [\"Alice\",\"Bob\",\"Carol\",\"Mary\",\"João\",\"Bernardo\"]\n",
    "friends = [[0,1,0,0,1,1],\n",
    "            [1,0,1,1,0,1],\n",
    "            [0,1,0,1,1,0],\n",
    "            [1,0,1,0,0,1],\n",
    "            [1,1,0,1,0,0],\n",
    "            [0,0,1,0,1,0]]\n",
    "\n",
    "bob_friends = show_friends(people, friends,\"Bob\")\n",
    "mary_friends = show_friends(people, friends,\"Mary\")\n",
    "bernardo_friends = show_friends(people, friends,\"Bernardo\")\n",
    "\n",
    "bob_joao_mutual_friends = show_mutual_friends(people,friends,\"Bob\",\"João\")\n",
    "alice_bernardo_mutual_friends = show_mutual_friends(people,friends,\"Alice\",\"Bernardo\")\n",
    "carol_alice_mutual_friends = show_mutual_friends(people,friends,\"Carol\",\"Alice\")\n",
    "\n",
    "print(f\"Bob's friends: {bob_friends}\")\n",
    "print(f\"Mary's friends: {mary_friends}\")\n",
    "print(f\"Bernardo's friends: {bernardo_friends}\")\n",
    "print(\"---------------------Mutual Fiends -----------------------\")\n",
    "print(f\"Bob and João mutual friends: {bob_joao_mutual_friends}\")\n",
    "print(f\"Alice and Bernardo mutual friends: {alice_bernardo_mutual_friends}\")\n",
    "print(f\"Carol and Alice mutual friends: {carol_alice_mutual_friends}\")"
   ]
  },
  {
   "cell_type": "markdown",
   "metadata": {},
   "source": [
    "# Unidade 3"
   ]
  },
  {
   "cell_type": "markdown",
   "metadata": {},
   "source": [
    "### Exercício 2: Operações em string\n",
    "Nesse exercício você irá implementar duas funções que auxiliarão nos exercícios posteriores:\n",
    "\n",
    "\n",
    "- **elimina_caracteres** (2 parâmetros) Elimina todas as ocorrências dos caracteres especificados de um texto. Tanto o texto quanto os caracteres a serem removidos são passados como parâmetros. Exemplo: `elimina_caracteres('correndo contra o tempo', 'coe')` devem resultar na string `rrnd cntra tmp`. Não altere o *for* já criado! O método *.replace* pode te ajudar! consulte [documentação](https://docs.python.org/3.5/library/stdtypes.html#string-methods) ou os [slides](https://daniel-hasan.github.io/cefet-web-grad/classes/python2/#5).\n",
    "    \n",
    "DICA: Será necessario usar o *.replace* uma vez para cada caractere especificado (ou seja, dentro de um laço)."
   ]
  },
  {
   "cell_type": "code",
   "execution_count": 5,
   "metadata": {},
   "outputs": [],
   "source": [
    "def delete_characters(text, characters_to_delete):\n",
    "    for character in characters_to_delete:\n",
    "      text = text.replace(character,'')\n",
    "    return text"
   ]
  },
  {
   "cell_type": "markdown",
   "metadata": {},
   "source": [
    "### Testes"
   ]
  },
  {
   "cell_type": "code",
   "execution_count": 7,
   "metadata": {},
   "outputs": [
    {
     "name": "stdout",
     "output_type": "stream",
     "text": [
      "rrnd ntra  tmp\n",
      "trg para tgrs trsts\n"
     ]
    }
   ],
   "source": [
    "result_1 = delete_characters('correndo contra o tempo', 'coe')\n",
    "result_2 = delete_characters('trigo para tigres tristes', 'ieo')\n",
    "print(result_1)\n",
    "print(result_2)\n"
   ]
  },
  {
   "cell_type": "markdown",
   "metadata": {},
   "source": [
    "- **substitua_caracteres**: (3 parâmetros) Dado um texto, uma string de procura e uma string de reposição, sendo que a string de procura e reposição são de mesmo tamanho. Substitua no texto o caractere na posição i da string de procura pelo caractere na mesma posição i na string de reposição. O texto, os caracteres a serem procurados no texto e os caracteres a serem colocados no lugar serão passados como parâmetro.\n",
    "    \n",
    "Exemplo:  `substitua_caracteres('o sapo nao lava o pe', 'aoe', 'iiu')` devem resultar na string `'i sipi nii livi i pu'`.\n",
    "    \n",
    "DICA: Será necessario usar o *.replace* uma vez para cada caractere especificado (ou seja, dentro de um laço)."
   ]
  },
  {
   "cell_type": "code",
   "execution_count": 10,
   "metadata": {},
   "outputs": [],
   "source": [
    "def replace_characters(text, characters, characters_replace):\n",
    "    for i in range(len(characters)):\n",
    "        character = characters[i]\n",
    "        character_replace = characters_replace[i]\n",
    "        text = text.replace(character,character_replace)\n",
    "    return text"
   ]
  },
  {
   "cell_type": "markdown",
   "metadata": {},
   "source": [
    "### Testes"
   ]
  },
  {
   "cell_type": "code",
   "execution_count": 11,
   "metadata": {},
   "outputs": [
    {
     "name": "stdout",
     "output_type": "stream",
     "text": [
      "i sipi nii livi i pu\n",
      "unu cempreu umu urerunhu\n",
      "ioienpos pissii, i vidi conpinui.\n"
     ]
    }
   ],
   "source": [
    "result_1 = replace_characters('o sapo nao lava o pe', 'aoe', 'iiu')\n",
    "result_3 = replace_characters('momentos passam, a vida continua.', 'mat', 'aip')\n",
    "print(result_1)\n",
    "print(result_2)"
   ]
  },
  {
   "cell_type": "markdown",
   "metadata": {},
   "source": [
    "### Exercício 3: Palíndromos 👑\n",
    "Segundo a [Oxford Languages](https://languages.oup.com/google-dictionary-pt/), *plaíndromos* são textos que se pode ler, indiferentemente, da esquerda para a direita ou vice-versa. Por exemplo: \"arara\", \"asa\", \"mirim\"... E também as frases: \"A cara rajada da jararaca\", \"Socorram-me, subi no ônibus em Marrocos\"...Perceba que, em frases, deve-se ignorar a pontuação, acentuação, espaços e maiúsculas/minúsculas.\n",
    "\n",
    "Implemente a função *verifica_palindromo* que recebe como parâmetro uma string (texto ou única palavra) e retorna *true* caso o parâmetro seja um palíndromo ou *false*, caso contrário. \n",
    "\n",
    "As funções do exercício anterior podem lhe ajudar para processamento de string, para isso *chame-as* e *não implemente-as*. Ignore as seguintes pontuações: `, - ! ?` e o espaço em branco. Além disso, acentos agudos, til e circunflexo em vogais devem ser ignorados."
   ]
  },
  {
   "cell_type": "code",
   "execution_count": 17,
   "metadata": {},
   "outputs": [],
   "source": [
    "def check_palindrome(text:str)->bool:\n",
    "    text = text.replace(' ','')\n",
    "    text = delete_characters(text,',-!?+*&$%@#')\n",
    "    text = replace_characters(text,'áéíóú','aeiou')\n",
    "    text = replace_characters(text,'âêîôû','aeiou')\n",
    "    text = replace_characters(text,'ãẽĩõũ','aeiou')\n",
    "    text = text.lower()\n",
    "    reverseText = text[::-1]\n",
    "    if text == reverseText:\n",
    "      return True\n",
    "    else:\n",
    "      return False"
   ]
  },
  {
   "cell_type": "markdown",
   "metadata": {},
   "source": [
    "### Testes"
   ]
  },
  {
   "cell_type": "code",
   "execution_count": 21,
   "metadata": {},
   "outputs": [
    {
     "name": "stdout",
     "output_type": "stream",
     "text": [
      "após a sopa is palindrome: True\n",
      "azul is palindrome: False\n",
      "Socorram-me, subi no ônibus em Marrocos is palindrome: True\n",
      "Roma is palindrome: False\n",
      "Tenet is palindrome: True\n",
      "Ovo is palindrome: True\n",
      "Teste is palindrome: False\n"
     ]
    }
   ],
   "source": [
    "print(f\"após a sopa is palindrome: {check_palindrome('após a sopa')}\")\n",
    "print(f\"azul is palindrome: {check_palindrome('azul')}\")\n",
    "print(f\"Socorram-me, subi no ônibus em Marrocos is palindrome: {check_palindrome('Socorram-me, subi no ônibus em Marrocos')}\")\n",
    "print(f\"Roma is palindrome: {check_palindrome('Roma')}\")\n",
    "print(f\"Tenet is palindrome: {check_palindrome('Tenet')}\")\n",
    "print(f\"Ovo is palindrome: {check_palindrome('Ovo')}\")\n",
    "print(f\"Teste is palindrome: {check_palindrome('Teste')}\")"
   ]
  },
  {
   "attachments": {
    "image.png": {
     "image/png": "[encoded data removed]"
    }
   },
   "cell_type": "markdown",
   "metadata": {},
   "source": [
    "### Exercício 5: Funções como parâmetro 2\n",
    "Você irá implementar a função *executa_operacao_vetor* que recebe como parâmetro uma operação (função) e dois vetores, *vetor1* e *vetor2*, de mesmo tamanho, e executa uma operação entre os elementos da mesma posição deste vetor. \n",
    "Esta operação é uma função que será chamada para cada posição deste vetor (ex: *operacao(vetor1[i], vetor2[i])*) e retornará o resultado desta operação. Caso os dois vetores sejam de tamanho diferentes, deve-se exibir uma *mensagem de erro* e não realizar a operação.\n",
    "\n",
    "Veja o exemplo abaixo, considerando a operação soma (implementada no exercício 0.2).\n",
    "\n",
    "![image.png](attachment:image.png)\n",
    "\n",
    "Você deverá implementar a função *executa_operacao_vetor* e três operações distintas (por exemplo, *soma(a, b)*, *multiplica(a, b)* e *subtrai(a, b)*), cada uma, criando uma função de forma uma diferente, siga o tutorial e o exercício anterior.\n",
    "\n",
    "PS: Lembre-se de sempre rodar a função antes e trocar os null"
   ]
  },
  {
   "cell_type": "code",
   "execution_count": 23,
   "metadata": {},
   "outputs": [],
   "source": [
    "def sum(a,b):\n",
    "  return a+b\n",
    "\n",
    "def mult(a,b):\n",
    "  return a*b\n",
    "\n",
    "def sub(a,b):\n",
    "  return a-b\n",
    "\n",
    "def execute_operation_vector(vector_1,vector_2,operation):\n",
    "  if len(vector_1)!=len(vector_2):\n",
    "     return\n",
    "\n",
    "  response = []\n",
    "  for i in range(len(vector_1)):\n",
    "        response.append(operation(vector_1[i],vector_2[i]))\n",
    "  return response"
   ]
  },
  {
   "cell_type": "code",
   "execution_count": 24,
   "metadata": {},
   "outputs": [
    {
     "name": "stdout",
     "output_type": "stream",
     "text": [
      "None\n",
      "[14, 4, 2, 15]\n",
      "[40, 4, -3, 50]\n",
      "[-6, 0, -4, 5]\n"
     ]
    }
   ],
   "source": [
    "print(execute_operation_vector([8,3,63,10],[10,2,3,5,5,5,5,5],sub))\n",
    "print(execute_operation_vector([4,2,-1,10],[10,2,3,5],sum))\n",
    "print(execute_operation_vector([4,2,-1,10],[10,2,3,5],mult))\n",
    "print(execute_operation_vector([4,2,-1,10],[10,2,3,5],sub))"
   ]
  },
  {
   "cell_type": "code",
   "execution_count": null,
   "outputs": [],
   "source": [],
   "metadata": {
    "collapsed": false,
    "pycharm": {
     "name": "#%%\n"
    }
   }
  }
 ],
 "metadata": {
  "kernelspec": {
   "display_name": "Python 3",
   "language": "python",
   "name": "python3"
  },
  "language_info": {
   "codemirror_mode": {
    "name": "ipython",
    "version": 3
   },
   "file_extension": ".py",
   "mimetype": "text/x-python",
   "name": "python",
   "nbconvert_exporter": "python",
   "pygments_lexer": "ipython3",
   "version": "3.7.3"
  }
 },
 "nbformat": 4,
 "nbformat_minor": 2
}