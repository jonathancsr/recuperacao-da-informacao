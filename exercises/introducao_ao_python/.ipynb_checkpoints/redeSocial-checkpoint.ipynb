{
 "cells": [
  {
   "attachments": {
    "Screenshot%20from%202021-03-10%2011-52-08.png": {
     "image/png": "[encoded data removed]"
    }
   },
   "cell_type": "markdown",
   "metadata": {},
   "source": [
    "### Unidade 2 -  Exercício 8: Rede Social \n",
    "Você irá fazer uma rede social por meio de um vetor de pessoas *pessoas* e matriz *amizades*, similar ao apresentado abaixo:\n",
    "![Screenshot%20from%202021-03-10%2011-52-08.png](attachment:Screenshot%20from%202021-03-10%2011-52-08.png)\n",
    "\n",
    "em que, na matriz *amizades*, cada linha e coluna correspondem a pessoas que podem manter uma relação de amizade entre si. Além disso, a pessoas da i-ésima linha (e coluna!) corresponde a mesma pessoa na posição i no vetor *pessoas*. Exemplo, a pessoa na linha 0 (e coluna 0) é *Alice*, da mesma forma, a pessoa na linha e coluna 2 é a *Carol*.\n",
    "\n",
    "Nesta matriz o valor é 1 caso uma pessoa, representada na linha, e amiga da pessoa representada pela coluna. Por exemplo, *Alice* é amiga apenas de *Danielle* (veja a linha 0). Nesta rede social (assim como na vida 💁) pode ocorrer falta de reciprocidade entre as amizades, por exemplo: *Bob* é amigo de *Alice* mas *Alice* não é amiga de *Bob*.\n",
    "\n",
    "Aqui vai duas funções que você deverá fazer e testá-las por meio da matriz e vetor:\n",
    "\n",
    "- `exibe_amigos`: por meio do vetor *pessoas*, matriz *amizades* e o nome de uma pessoa, exibe o amigos desta pessoa. Você deverá armazenar esta lista de amigos em um vetor e retorná-lo.\n",
    "\n",
    "- `exibe_amigos_em_comum`: por meio do vetor *pessoas*, da matriz *amizades* e do nome de uma pessoa X e uma pessoa Y, exibe os amigos em comum entre essas duas pessoas. Você deverá armazenar essa lista de amigos em comum em um vetor e retorná-lo.\n",
    "\n",
    "Lembre-se de imprimir todas as saídas de forma que fique claro de qual entrada ela representa. A função *obtem_posicao_elemento* (exercício 3) poderá ajudar, porém *CHAME-A* e *não implemente novamente*.\n"
   ]
  },
  {
   "cell_type": "code",
   "execution_count": 10,
   "metadata": {},
   "outputs": [],
   "source": [
    "def exibe_amigos(pessoas, amizades, nome_pessoa):\n",
    "    indexPessoa = pessoas.index(nome_pessoa)\n",
    "    amigos = []\n",
    "    for i in range(len(pessoas)):\n",
    "      if amizades[indexPessoa][i] == 1:\n",
    "        amigos.append(pessoas[i])\n",
    "    return amigos      \n",
    "\n",
    "def exibe_amigos_em_comum(pessoas, amizades, nome_pessoa_1, nome_pessoa_2):\n",
    "    amigos_Pessoa_1 = exibe_amigos(pessoas, amizades,nome_pessoa_1)\n",
    "    amigos_Pessoa_2 = exibe_amigos(pessoas, amizades,nome_pessoa_2)\n",
    "    amigos_comum = []\n",
    "    \n",
    "    for amigo_1 in amigos_Pessoa_1:\n",
    "      for amigo_2 in amigos_Pessoa_2:\n",
    "        if amigo_1==amigo_2:\n",
    "          amigos_comum.append(amigo_1)\n",
    "    \n",
    "    return amigos_comum       \n"
   ]
  },
  {
   "cell_type": "markdown",
   "metadata": {},
   "source": [
    "## Testes"
   ]
  },
  {
   "cell_type": "code",
   "execution_count": 11,
   "metadata": {},
   "outputs": [
    {
     "name": "stdout",
     "output_type": "stream",
     "text": [
      "--------------------------------------------------\n",
      "Amigos de Bob: ['Alice', 'Carol', 'Maria', 'Bernardo']\n",
      "Amigos de Maria: ['Alice', 'Carol', 'Bernardo']\n",
      "Amigos de Bernardo: ['Carol', 'João']\n",
      "--------------------------------------------------\n",
      "Amigos em comum Bob e João: ['Alice', 'Maria']\n",
      "Amigos em comum Alice e Bernardo: ['João']\n",
      "Amigos em comum Carol e Alice: ['Bob', 'João']\n",
      "--------------------------------------------------\n"
     ]
    }
   ],
   "source": [
    "pessoas = [\"Alice\",\"Bob\",\"Carol\",\"Maria\",\"João\",\"Bernardo\"]\n",
    "amizades = [[0,1,0,0,1,1],\n",
    "            [1,0,1,1,0,1],\n",
    "            [0,1,0,1,1,0],\n",
    "            [1,0,1,0,0,1],\n",
    "            [1,1,0,1,0,0],\n",
    "            [0,0,1,0,1,0]]\n",
    "\n",
    "amigos_bob = exibe_amigos(pessoas, amizades,\"Bob\")\n",
    "amigos_maria = exibe_amigos(pessoas, amizades,\"Maria\")\n",
    "amigos_bernardo = exibe_amigos(pessoas, amizades,\"Bernardo\")\n",
    "\n",
    "amigos_comum_bob_joao = exibe_amigos_em_comum(pessoas,amizades,\"Bob\",\"João\")\n",
    "amigos_comum_alice_bernardo = exibe_amigos_em_comum(pessoas,amizades,\"Alice\",\"Bernardo\")\n",
    "amigos_comum_carol_alice = exibe_amigos_em_comum(pessoas,amizades,\"Carol\",\"Alice\")\n",
    "\n",
    "print(\"--------------------------------------------------\")\n",
    "print(f\"Amigos de Bob: {amigos_bob}\")\n",
    "print(f\"Amigos de Maria: {amigos_maria}\")\n",
    "print(f\"Amigos de Bernardo: {amigos_bernardo}\")\n",
    "print(\"--------------------------------------------------\")\n",
    "print(f\"Amigos em comum Bob e João: {amigos_comum_bob_joao}\")\n",
    "print(f\"Amigos em comum Alice e Bernardo: {amigos_comum_alice_bernardo}\")\n",
    "print(f\"Amigos em comum Carol e Alice: {amigos_comum_carol_alice}\")\n",
    "print(\"--------------------------------------------------\")"
   ]
  }
 ],
 "metadata": {
  "kernelspec": {
   "display_name": "Python 3",
   "language": "python",
   "name": "python3"
  },
  "language_info": {
   "codemirror_mode": {
    "name": "ipython",
    "version": 3
   },
   "file_extension": ".py",
   "mimetype": "text/x-python",
   "name": "python",
   "nbconvert_exporter": "python",
   "pygments_lexer": "ipython3",
   "version": "3.7.3"
  }
 },
 "nbformat": 4,
 "nbformat_minor": 2
}
