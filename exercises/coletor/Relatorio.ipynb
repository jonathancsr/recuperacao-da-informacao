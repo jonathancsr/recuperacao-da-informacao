{
 "cells": [
  {
   "cell_type": "markdown",
   "metadata": {},
   "source": [
    "## Principais desafios, decisões e arquitetura"
   ]
  },
  {
   "cell_type": "markdown",
   "metadata": {},
   "source": [
    "Para a construção do coletor, foi disponiblizado um código inicial e roteiro pelo professor. Foram seguidos todos os passos pedidos para seu desenvolvimento e bom funcionamento. As sementes utilizadas foram definidas com base no número de páginas por domínio; sementes que possuíam grande número de páginas por domínio foram utilizadas para agilizar o teste do funcionamento do coletor. A arquitetura do coletor consiste em uma arquitetura multithread sincronizada."
   ]
  },
  {
   "cell_type": "markdown",
   "metadata": {},
   "source": [
    "## Urls sementes utilizadas"
   ]
  },
  {
   "cell_type": "markdown",
   "metadata": {},
   "source": [
    "[\n",
    "    \"https://jovemnerd.com.br/\",\n",
    "    \"https://g1.globo.com/\",\n",
    "    \"https://www.gov.br/\",\n",
    "    \"https://www.folha.uol.com.br/\",\n",
    "    \"https://www.nytimes.com/\",\n",
    "    \"https://pt.stackoverflow.com/\",\n",
    "    \"https://www.estadao.com.br/\",\n",
    "    \"https://www.em.com.br/\"\n",
    "]"
   ]
  },
  {
   "cell_type": "markdown",
   "metadata": {},
   "source": [
    "## Critérios de exclusão de robôs"
   ]
  },
  {
   "cell_type": "markdown",
   "metadata": {},
   "source": [
    "Para a coleta de todas as páginas é verificado se a mesma pode permite ser coletada, para isso é utilizado o RobotFileParser da biblioteca urllib. Esta classe tem um metodo que nos permite verificar por meio do robots.txt se a pagina permite ou não sua coleta. Caso uma página não possa ser coletada ela é ignorada e continua a busca a partir de outra url."
   ]
  },
  {
   "cell_type": "markdown",
   "metadata": {},
   "source": [
    "## Quantidade de tempo de requisição entre um mesmo servidor"
   ]
  },
  {
   "cell_type": "markdown",
   "metadata": {},
   "source": [
    "Foi definido um tempo entre as requisições de 30 segundos para o mesmo servidor. Evitando assim a sobrecarga do servidor acessado no momento da coleta."
   ]
  },
  {
   "cell_type": "markdown",
   "metadata": {},
   "source": [
    "## Impacto na velocidade de coleta"
   ]
  },
  {
   "cell_type": "code",
   "execution_count": 1,
   "metadata": {},
   "outputs": [
    {
     "data": {
      "image/png": "[encoded data removed]",
      "text/plain": [
       "<Figure size 432x288 with 1 Axes>"
      ]
     },
     "metadata": {
      "needs_background": "light"
     },
     "output_type": "display_data"
    }
   ],
   "source": [
    "import matplotlib.pyplot as plt\n",
    "plt.plot([10, 20, 40, 60,80,100], [95, 109, 107,98,112,113])\n",
    "plt.ylabel('Segundos')\n",
    "plt.xlabel('Quantidade Page Fetchers')\n",
    "plt.show()"
   ]
  },
  {
   "cell_type": "markdown",
   "metadata": {},
   "source": [
    "A partir do gráfico gerado acima, podemos notar que a quantidade de Page Fetchers não traz um grande ganho de desempenho. Isto se da pela quantidade sementes iniciais utilizadas e o hardware em que foi realizado os testes, visto que alguns processadores fazem uso melhor de suas multiplas threads."
   ]
  },
  {
   "cell_type": "markdown",
   "metadata": {},
   "source": [
    "## Atividades Complementares"
   ]
  },
  {
   "cell_type": "markdown",
   "metadata": {},
   "source": [
    "- Entregar e apresentar as atividades de 9 a 11 do coletor com antecedência (e sem bugs): no dia de apresentação das atividades de 1 a 8.\n",
    "- Correção em um teste unitário\n",
    " - O método test_init do arquivo scheduler_test.py utilizado como teste unitário da questão 7 estava incorreto. As url's só estavam sendo adicionadas no array de sementes, mas não estava sendo testado de fato, pois no enunciado da questão 7 é pedido que: \"No construtor da classe Scheduler deveria adicionar as páginas sementes na fila\". Faltou a parte de chamar o construtor da classe Scheduler para que o teste seja de fato realizado. O método self.assertEqual estava  comparando 3 com 3, que foi corrigido para comparar o len( ) da lista de sementes e especificar se as url's são http ou https. Os ajustes foram feitos e realizado fork com o codigo inicial do professor.\n"
   ]
  },
  {
   "cell_type": "markdown",
   "metadata": {},
   "source": [
    "## Página do coletor criado"
   ]
  },
  {
   "cell_type": "markdown",
   "metadata": {},
   "source": [
    "https://jonathancsr.github.io/recuperacao-da-informacao/landeritoBot/"
   ]
  }
 ],
 "metadata": {
  "kernelspec": {
   "display_name": "Python 3",
   "language": "python",
   "name": "python3"
  },
  "language_info": {
   "codemirror_mode": {
    "name": "ipython",
    "version": 3
   },
   "file_extension": ".py",
   "mimetype": "text/x-python",
   "name": "python",
   "nbconvert_exporter": "python",
   "pygments_lexer": "ipython3",
   "version": "3.9.4"
  }
 },
 "nbformat": 4,
 "nbformat_minor": 4
}
