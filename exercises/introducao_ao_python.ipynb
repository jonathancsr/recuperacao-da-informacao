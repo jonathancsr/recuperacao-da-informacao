{
 "cells": [
  {
   "cell_type": "markdown",
   "metadata": {},
   "source": [
    "# maior(a,b)"
   ]
  },
  {
   "cell_type": "code",
   "execution_count": 67,
   "metadata": {},
   "outputs": [],
   "source": [
    "def maior(a,b):\n",
    "    return a if a >= b else b"
   ]
  },
  {
   "cell_type": "markdown",
   "metadata": {},
   "source": [
    "# soma(lista,x)"
   ]
  },
  {
   "cell_type": "code",
   "execution_count": 68,
   "metadata": {},
   "outputs": [],
   "source": [
    "def soma(list,x = 0):\n",
    "    soma = 0\n",
    "    for item in list:\n",
    "        soma += item\n",
    "    return soma + x    "
   ]
  },
  {
   "cell_type": "markdown",
   "metadata": {},
   "source": [
    "# media(lista)"
   ]
  },
  {
   "cell_type": "code",
   "execution_count": 47,
   "metadata": {},
   "outputs": [],
   "source": [
    "def media(list):\n",
    "    soma = 0\n",
    "    for item in list:\n",
    "        soma += item\n",
    "    return soma / len(list)"
   ]
  },
  {
   "cell_type": "markdown",
   "metadata": {},
   "source": [
    "# valores_iguais(lista1,lista2)"
   ]
  },
  {
   "cell_type": "code",
   "execution_count": 76,
   "metadata": {},
   "outputs": [],
   "source": [
    "def valores_iguais(list1,list2):\n",
    "    iguais = []\n",
    "    for item in list1:\n",
    "        if item in list2 :\n",
    "            iguais.append(item)\n",
    "    return iguais"
   ]
  },
  {
   "cell_type": "markdown",
   "metadata": {},
   "source": [
    "# indice_prim_valor_igual(lista1,lista2)"
   ]
  },
  {
   "cell_type": "code",
   "execution_count": 77,
   "metadata": {
    "pycharm": {
     "name": "#%%\n"
    }
   },
   "outputs": [],
   "source": [
    "def indice_prim_valor_igual(list1,list2):\n",
    "    index = 0\n",
    "    for item in list1:\n",
    "        if item in list2 :\n",
    "            return index \n",
    "        index += 1\n",
    "    return None\n",
    "\n"
   ]
  }
 ],
 "metadata": {
  "kernelspec": {
   "display_name": "Python 3",
   "language": "python",
   "name": "python3"
  },
  "language_info": {
   "codemirror_mode": {
    "name": "ipython",
    "version": 3
   },
   "file_extension": ".py",
   "mimetype": "text/x-python",
   "name": "python",
   "nbconvert_exporter": "python",
   "pygments_lexer": "ipython3",
   "version": "3.9.4"
  }
 },
 "nbformat": 4,
 "nbformat_minor": 1
}